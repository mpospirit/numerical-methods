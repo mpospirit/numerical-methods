{
 "cells": [
  {
   "cell_type": "markdown",
   "metadata": {},
   "source": [
    "## Soru 2\n",
    "### Cagri Gokpunar"
   ]
  },
  {
   "cell_type": "code",
   "execution_count": 3,
   "metadata": {},
   "outputs": [],
   "source": [
    "import numpy as np\n",
    "import pandas as pd"
   ]
  },
  {
   "cell_type": "markdown",
   "metadata": {},
   "source": [
    "Bilinmeyenlerimizi notasyon kolaylığı açısından a, b, c, d, e ve f olarak alalım:<br><br>\n",
    "$$a-4b+2c+d+16e+4f=-25$$\n",
    "$$-5a+3b-21c-2d-4e+5f=-68$$\n",
    "$$20a+5b+c-d+e+5f=22$$\n",
    "$$-2a+8b-d+f=12$$\n",
    "$$4a-2b+5c-25d-5e=20$$\n",
    "$$2a-b+5c-4e-24f=67$$<br>\n",
    "Katsayılar matrisimiz köşegence baskın değil, olacak şekilde düzenleyelim:<br><br>\n",
    "$$20a+5b+c-d+e+5f=22$$\n",
    "$$-2a+8b-d+f=12$$\n",
    "$$-5a+3b-21c-2d-4e+5f=-68$$\n",
    "$$4a-2b+5c-25d-5e=20$$\n",
    "$$a-4b+2c+d+16e+4f=-25$$\n",
    "$$2a-b+5c-4e-24f=67$$<br>\n",
    "Bilinmeyenler için denklemlerimizi Gauss-Seidel yöntemine göre oluşturalım:<br><br>\n",
    "$$a_{k+1}=\\frac{1}{20}(22-5b_k-c_k+d_k-e_k-5f_k)$$\n",
    "$$b_{k+1}=\\frac{1}{8}(12+2a_{k+1}+d_k-f_k)$$\n",
    "$$c_{k+1}=-\\frac{1}{21}(-68+5a_{k+1}-3b_{k+1}+2d_k+4e_k-5f_k)$$\n",
    "$$d_{k+1}=-\\frac{1}{25}(20-4a_{k+1}+2b_{k+1}-5c_{k+1}+5e_k)$$\n",
    "$$e_{k+1}=\\frac{1}{16}(-25-a_{k+1}+4b_{k+1}-2c_{k+1}-d_{k+1}-4f_k)$$\n",
    "$$f_{k+1}=-\\frac{1}{24}(67-2a_{k+1}+b_{k+1}-5c_{k+1}+4e_{k+1})$$<br>\n",
    "Denklemlerimizi tanımlayalım:"
   ]
  },
  {
   "cell_type": "code",
   "execution_count": 4,
   "metadata": {},
   "outputs": [],
   "source": [
    "def equation1(a,b,c,d,e,f):\n",
    "    return (22-5*b-c+d-e-5*f)/20\n",
    "\n",
    "def equation2(a,b,c,d,e,f):\n",
    "    return (12+2*a+d-f)/8\n",
    "\n",
    "def equation3(a,b,c,d,e,f):\n",
    "    return (-68+5*a-3*b+2*d+4*e-5*f)/-21\n",
    "\n",
    "def equation4(a,b,c,d,e,f):\n",
    "    return (20-4*a+2*b-5*c+5*e)/-25\n",
    "\n",
    "def equation5(a,b,c,d,e,f):\n",
    "    return (-25-a+4*b-2*c-d-4*f)/16\n",
    "\n",
    "def equation6(a,b,c,d,e,f):\n",
    "    return (67-2*a+b-5*c+4*e)/-24"
   ]
  },
  {
   "cell_type": "markdown",
   "metadata": {},
   "source": [
    "gaussseidel adın bir fonksiyon oluşturalım.<br>\n",
    "Fonksiyon parametre olarak başlangıç değerlerini alıyor, ardından oluşturduğumuz denklemleri kullanarak bir sonraki adımı hesaplıyor.<br>\n",
    "Buna tolerans istenen seviyeye gelene kadar devam ediyor."
   ]
  },
  {
   "cell_type": "code",
   "execution_count": 5,
   "metadata": {},
   "outputs": [],
   "source": [
    "def gaussseidel(a0,b0,c0,d0,e0,f0): #başlangıç değerlerini al\n",
    "    iteration=0\n",
    "    yield iteration,a0,b0,c0,d0,e0,f0 #yield tablo oluşturmamıza yarayacak, değerleri hafızada tutuyor\n",
    "    while True:\n",
    "        a1 = equation1(a0,b0,c0,d0,e0,f0) #birinci denkleme başlangıç koşulunu yazarak a1'i bulalım\n",
    "        b1 = equation2(a1,b0,c0,d0,e0,f0) #ikinci denkleme a1'i ve diğer başlangıç koşullarını yazalım\n",
    "        c1 = equation3(a1,b1,c0,d0,e0,f0) #üçüncü denkleme a1, b1 ve kalan başlangıç koşullarını...\n",
    "        d1 = equation4(a1,b1,c1,d0,e0,f0)\n",
    "        e1 = equation5(a1,b1,c1,d1,e0,f0)\n",
    "        f1 = equation6(a1,b1,c1,d1,e1,f0) #son denkleme kadar devam edelim\n",
    "        solution0=np.array([a0,b0,c0,d0,e0,f0])\n",
    "        solution1=np.array([a1,b1,c1,d1,e1,f1]) #verilen ve elde edilen değerlerden vektör oluşturalım (norm hesabı için)\n",
    "        if np.absolute(np.linalg.norm(solution1)-np.linalg.norm(solution0))<=0.0001: #normlar farkını toleransla kıyasladık\n",
    "            break #eğer fark yeterince küçükse döngüden çık\n",
    "        a0,b0,c0,d0,e0,f0=a1,b1,c1,d1,e1,f1 #eski değerlerin yerine yenilerini yaz\n",
    "        iteration+=1        \n",
    "        yield iteration,a1,b1,c1,d1,e1,f1 #tablo için değerleri kaydet"
   ]
  },
  {
   "cell_type": "markdown",
   "metadata": {},
   "source": [
    "    gaussseidel(1,0,1,0,1,1)\n",
    "Başlangıç koşulunu fonksiyonumuza yazdıktan sonra sonucu dataframe şeklinde alalım:<br>\n"
   ]
  },
  {
   "cell_type": "code",
   "execution_count": 6,
   "metadata": {
    "scrolled": false
   },
   "outputs": [
    {
     "data": {
      "text/html": [
       "<div>\n",
       "<style scoped>\n",
       "    .dataframe tbody tr th:only-of-type {\n",
       "        vertical-align: middle;\n",
       "    }\n",
       "\n",
       "    .dataframe tbody tr th {\n",
       "        vertical-align: top;\n",
       "    }\n",
       "\n",
       "    .dataframe thead th {\n",
       "        text-align: right;\n",
       "    }\n",
       "</style>\n",
       "<table border=\"1\" class=\"dataframe\">\n",
       "  <thead>\n",
       "    <tr style=\"text-align: right;\">\n",
       "      <th></th>\n",
       "      <th>a</th>\n",
       "      <th>b</th>\n",
       "      <th>c</th>\n",
       "      <th>d</th>\n",
       "      <th>e</th>\n",
       "      <th>f</th>\n",
       "    </tr>\n",
       "    <tr>\n",
       "      <th>Iterations</th>\n",
       "      <th></th>\n",
       "      <th></th>\n",
       "      <th></th>\n",
       "      <th></th>\n",
       "      <th></th>\n",
       "      <th></th>\n",
       "    </tr>\n",
       "  </thead>\n",
       "  <tbody>\n",
       "    <tr>\n",
       "      <th>0</th>\n",
       "      <td>1.000000</td>\n",
       "      <td>0.000000</td>\n",
       "      <td>1.000000</td>\n",
       "      <td>0.000000</td>\n",
       "      <td>1.000000</td>\n",
       "      <td>1.000000</td>\n",
       "    </tr>\n",
       "    <tr>\n",
       "      <th>1</th>\n",
       "      <td>0.750000</td>\n",
       "      <td>1.562500</td>\n",
       "      <td>3.330357</td>\n",
       "      <td>-0.338929</td>\n",
       "      <td>-1.863862</td>\n",
       "      <td>-1.789803</td>\n",
       "    </tr>\n",
       "    <tr>\n",
       "      <th>2</th>\n",
       "      <td>1.066555</td>\n",
       "      <td>1.947998</td>\n",
       "      <td>3.223596</td>\n",
       "      <td>0.232300</td>\n",
       "      <td>-1.112178</td>\n",
       "      <td>-1.927008</td>\n",
       "    </tr>\n",
       "    <tr>\n",
       "      <th>3</th>\n",
       "      <td>1.000797</td>\n",
       "      <td>2.020113</td>\n",
       "      <td>3.019306</td>\n",
       "      <td>0.024815</td>\n",
       "      <td>-1.017234</td>\n",
       "      <td>-1.993877</td>\n",
       "    </tr>\n",
       "    <tr>\n",
       "      <th>4</th>\n",
       "      <td>0.994578</td>\n",
       "      <td>2.000981</td>\n",
       "      <td>3.003808</td>\n",
       "      <td>0.003262</td>\n",
       "      <td>-1.001626</td>\n",
       "      <td>-1.999428</td>\n",
       "    </tr>\n",
       "    <tr>\n",
       "      <th>5</th>\n",
       "      <td>0.999666</td>\n",
       "      <td>2.000253</td>\n",
       "      <td>3.000251</td>\n",
       "      <td>0.000302</td>\n",
       "      <td>-1.000109</td>\n",
       "      <td>-1.999968</td>\n",
       "    </tr>\n",
       "    <tr>\n",
       "      <th>6</th>\n",
       "      <td>0.999937</td>\n",
       "      <td>2.000018</td>\n",
       "      <td>3.000017</td>\n",
       "      <td>0.000014</td>\n",
       "      <td>-1.000003</td>\n",
       "      <td>-2.000002</td>\n",
       "    </tr>\n",
       "  </tbody>\n",
       "</table>\n",
       "</div>"
      ],
      "text/plain": [
       "                   a         b         c         d         e         f\n",
       "Iterations                                                            \n",
       "0           1.000000  0.000000  1.000000  0.000000  1.000000  1.000000\n",
       "1           0.750000  1.562500  3.330357 -0.338929 -1.863862 -1.789803\n",
       "2           1.066555  1.947998  3.223596  0.232300 -1.112178 -1.927008\n",
       "3           1.000797  2.020113  3.019306  0.024815 -1.017234 -1.993877\n",
       "4           0.994578  2.000981  3.003808  0.003262 -1.001626 -1.999428\n",
       "5           0.999666  2.000253  3.000251  0.000302 -1.000109 -1.999968\n",
       "6           0.999937  2.000018  3.000017  0.000014 -1.000003 -2.000002"
      ]
     },
     "execution_count": 6,
     "metadata": {},
     "output_type": "execute_result"
    }
   ],
   "source": [
    "results=pd.DataFrame(gaussseidel(1,0,1,0,1,1), columns=[\"Iterations\",\"a\",\"b\",\"c\",\"d\",\"e\",\"f\"])\n",
    "results.set_index(\"Iterations\")"
   ]
  },
  {
   "cell_type": "markdown",
   "metadata": {},
   "source": [
    "Toplam 6 iterasyonda istenen tolerans seviyesine ulaştık.\n",
    "Tablomuzun son satırına bakarsak:<br><br>\n",
    "$$a\\approx0.999937$$\n",
    "$$b\\approx2.000018$$\n",
    "$$c\\approx3.000017$$\n",
    "$$d\\approx0.000014$$\n",
    "$$e\\approx-1.000003$$\n",
    "$$f\\approx-2.000002$$<br>\n",
    "bulduğumuzu görürüz. Denklemde yerine yazarak sağlama yapalım."
   ]
  },
  {
   "cell_type": "code",
   "execution_count": 7,
   "metadata": {},
   "outputs": [],
   "source": [
    "a,b,c,d,e,f=0.999937,2.000018,3.000017,0.000014,-1.000003,-2.000002"
   ]
  },
  {
   "cell_type": "markdown",
   "metadata": {},
   "source": [
    "$$a-4b+2c+d+16e+4f=-25$$\n",
    "$$-5a+3b-21c-2d-4e+5f=-68$$\n",
    "$$20a+5b+c-d+e+5f=22$$\n",
    "$$-2a+8b-d+f=12$$\n",
    "$$4a-2b+5c-25d-5e=20$$\n",
    "$$2a-b+5c-4e-24f=67$$"
   ]
  },
  {
   "cell_type": "code",
   "execution_count": 8,
   "metadata": {},
   "outputs": [
    {
     "data": {
      "text/plain": [
       "-25.000143"
      ]
     },
     "execution_count": 8,
     "metadata": {},
     "output_type": "execute_result"
    }
   ],
   "source": [
    "a-4*b+2*c+d+16*e+4*f"
   ]
  },
  {
   "cell_type": "code",
   "execution_count": 9,
   "metadata": {},
   "outputs": [
    {
     "data": {
      "text/plain": [
       "-68.00001400000001"
      ]
     },
     "execution_count": 9,
     "metadata": {},
     "output_type": "execute_result"
    }
   ],
   "source": [
    "-5*a+3*b-21*c-2*d-4*e+5*f"
   ]
  },
  {
   "cell_type": "code",
   "execution_count": 10,
   "metadata": {},
   "outputs": [
    {
     "data": {
      "text/plain": [
       "21.99882"
      ]
     },
     "execution_count": 10,
     "metadata": {},
     "output_type": "execute_result"
    }
   ],
   "source": [
    "20*a+5*b+c-d+e+5*f"
   ]
  },
  {
   "cell_type": "code",
   "execution_count": 11,
   "metadata": {},
   "outputs": [
    {
     "data": {
      "text/plain": [
       "12.000253999999998"
      ]
     },
     "execution_count": 11,
     "metadata": {},
     "output_type": "execute_result"
    }
   ],
   "source": [
    "-2*a+8*b-d+f"
   ]
  },
  {
   "cell_type": "code",
   "execution_count": 12,
   "metadata": {},
   "outputs": [
    {
     "data": {
      "text/plain": [
       "19.999462"
      ]
     },
     "execution_count": 12,
     "metadata": {},
     "output_type": "execute_result"
    }
   ],
   "source": [
    "4*a-2*b+5*c-25*d-5*e"
   ]
  },
  {
   "cell_type": "code",
   "execution_count": 13,
   "metadata": {},
   "outputs": [
    {
     "data": {
      "text/plain": [
       "67.000001"
      ]
     },
     "execution_count": 13,
     "metadata": {},
     "output_type": "execute_result"
    }
   ],
   "source": [
    "2*a-b+5*c-4*e-24*f"
   ]
  }
 ],
 "metadata": {
  "kernelspec": {
   "display_name": "Python 3",
   "language": "python",
   "name": "python3"
  },
  "language_info": {
   "codemirror_mode": {
    "name": "ipython",
    "version": 3
   },
   "file_extension": ".py",
   "mimetype": "text/x-python",
   "name": "python",
   "nbconvert_exporter": "python",
   "pygments_lexer": "ipython3",
   "version": "3.8.8"
  }
 },
 "nbformat": 4,
 "nbformat_minor": 4
}
