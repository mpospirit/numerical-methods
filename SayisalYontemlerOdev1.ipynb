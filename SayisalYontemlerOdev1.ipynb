{
 "cells": [
  {
   "cell_type": "markdown",
   "metadata": {},
   "source": [
    "# Sayısal Yöntemler Ödev 1 \n",
    "### Cagri Gokpunar"
   ]
  },
  {
   "cell_type": "code",
   "execution_count": 1,
   "metadata": {},
   "outputs": [],
   "source": [
    "import numpy as np\n",
    "import pandas as pd"
   ]
  },
  {
   "cell_type": "code",
   "execution_count": 2,
   "metadata": {},
   "outputs": [],
   "source": [
    "import seaborn as sns\n",
    "import matplotlib.pyplot as plt\n",
    "plt.style.use('dark_background')\n",
    "%matplotlib inline"
   ]
  },
  {
   "cell_type": "markdown",
   "metadata": {},
   "source": [
    "## Soru 1:"
   ]
  },
  {
   "cell_type": "markdown",
   "metadata": {},
   "source": [
    "##### Fonksiyonun Grafiği"
   ]
  },
  {
   "cell_type": "markdown",
   "metadata": {},
   "source": [
    "$$f\\left(x\\right)=e^{-2x}x+xcos\\left(x\\right)-4sin\\left(2x\\right)$$"
   ]
  },
  {
   "cell_type": "code",
   "execution_count": 3,
   "metadata": {
    "scrolled": false
   },
   "outputs": [
    {
     "data": {
      "text/plain": [
       "Text(0.5, 1.0, 'f(x) graph [0,2]')"
      ]
     },
     "execution_count": 3,
     "metadata": {},
     "output_type": "execute_result"
    },
    {
     "data": {
      "image/png": "[encoded data removed]",
      "text/plain": [
       "<Figure size 432x288 with 1 Axes>"
      ]
     },
     "metadata": {
      "needs_background": "dark"
     },
     "output_type": "display_data"
    }
   ],
   "source": [
    "x=np.arange(0,2,0.01)\n",
    "fx=np.exp(-2*x)*x+x*np.cos(x)-4*np.sin(2*x) #fonksiyonu tanımladık\n",
    "plt.plot(x,fx) #fonksiyonun grafiği\n",
    "plt.axvline(x=0, color=\"red\")\n",
    "plt.axhline(y=0, color=\"red\") #koordinat doğruları\n",
    "plt.title(\"f(x) graph [0,2]\")"
   ]
  },
  {
   "cell_type": "markdown",
   "metadata": {},
   "source": [
    "### 1.a. İkiye Ayırma (Bisection) Yöntemi"
   ]
  },
  {
   "cell_type": "code",
   "execution_count": 4,
   "metadata": {},
   "outputs": [],
   "source": [
    "a=1\n",
    "b=2\n",
    "c=(a+b)/2"
   ]
  },
  {
   "cell_type": "markdown",
   "metadata": {},
   "source": [
    "##### x=c doğrusu grafik üzerinde"
   ]
  },
  {
   "cell_type": "code",
   "execution_count": 5,
   "metadata": {
    "scrolled": false
   },
   "outputs": [
    {
     "data": {
      "text/plain": [
       "Text(0.5, 1.0, 'x=a, x=b and x=c')"
      ]
     },
     "execution_count": 5,
     "metadata": {},
     "output_type": "execute_result"
    },
    {
     "data": {
      "image/png": "[encoded data removed]",
      "text/plain": [
       "<Figure size 432x288 with 1 Axes>"
      ]
     },
     "metadata": {
      "needs_background": "dark"
     },
     "output_type": "display_data"
    }
   ],
   "source": [
    "x=np.arange(0.75,2.25,0.01)\n",
    "fx=np.exp(-2*x)*x+x*np.cos(x)-4*np.sin(2*x)\n",
    "plt.plot(x,fx)\n",
    "plt.axhline(y=0, color=\"red\")\n",
    "plt.axvline(x=a, color=\"pink\") \n",
    "plt.axvline(x=b, color=\"pink\") #x=a ve x=b pembe\n",
    "plt.axvline(x=c, color=\"green\") #c doğrumuz yeşil\n",
    "plt.title(\"x=a, x=b and x=c\")"
   ]
  },
  {
   "cell_type": "markdown",
   "metadata": {},
   "source": [
    "$$f\\left(x\\right)=e^{-2x}x+xcos\\left(x\\right)-4sin\\left(2x\\right)$$\n",
    "Soru 1'de verilen fonksiyonu equation1 şeklinde tanımlıyoruz:"
   ]
  },
  {
   "cell_type": "code",
   "execution_count": 6,
   "metadata": {},
   "outputs": [],
   "source": [
    "equation1 = lambda x: np.exp(-2*x)*x+x*np.cos(x)-4*np.sin(2*x) #yaklaşık değerini bulacağımız fonksiyon"
   ]
  },
  {
   "cell_type": "markdown",
   "metadata": {},
   "source": [
    "Orta noktayı fonksiyona yazdığımızda karşımıza çıkan değer f(c):"
   ]
  },
  {
   "cell_type": "code",
   "execution_count": 7,
   "metadata": {
    "scrolled": true
   },
   "outputs": [
    {
     "data": {
      "text/plain": [
       "-0.3836936271861186"
      ]
     },
     "execution_count": 7,
     "metadata": {},
     "output_type": "execute_result"
    }
   ],
   "source": [
    "equation1(c)"
   ]
  },
  {
   "cell_type": "markdown",
   "metadata": {},
   "source": [
    "İkiye bölme yöntemi için __bisection__ adında bir fonksiyon tanımlıyoruz.<br>Fonksiyonun üç adet parametresi var: \n",
    "\n",
    "(1) Sol sınır: left_bound<br>(2) Sağ sınır: right_bound<br>(3) Eğri: equation  \n",
    "\n",
    "Fonksiyon parametreleri aldıktan sonra sağ ve sol sınırı toplayıp ikiye bölerek bir orta nokta oluşturuyor.<br>Ardından bu orta noktayı denklemin içine yazarak toleranstan büyük olup olmadığını kontrol ediyor.<br>Eğer büyükse, kökün orta noktanın hangi tarafında olduğunu bulup orta noktayı sağ ya da sol sınırla değiştiriyor.<br>İstenen koşul sağlanana kadar döngüye devam ediyor."
   ]
  },
  {
   "cell_type": "code",
   "execution_count": 8,
   "metadata": {},
   "outputs": [],
   "source": [
    "def bisection(left_bound, right_bound, equation):\n",
    "    middle_point=(left_bound+right_bound)/2\n",
    "    yield equation(middle_point),middle_point #orta noktayı tanımladık\n",
    "    while np.absolute(equation(middle_point))>0.00001:\n",
    "        if equation(left_bound)*equation(middle_point)>0: #şartımız sağlanmadığı takdirde yeni orta nokta\n",
    "            left_bound=middle_point\n",
    "        else:\n",
    "            right_bound=middle_point\n",
    "        middle_point=(left_bound+right_bound)/2\n",
    "        yield equation(middle_point),middle_point #yield her while döngüsünde elde ettiğimiz değeri tutmaya yarıyor"
   ]
  },
  {
   "cell_type": "markdown",
   "metadata": {},
   "source": [
    "    bisection(1,2,equation1)  \n",
    "Fonksiyona parametreleri girdikten sonra sonucu data frame şeklinde alabiliriz:"
   ]
  },
  {
   "cell_type": "code",
   "execution_count": 9,
   "metadata": {
    "scrolled": false
   },
   "outputs": [
    {
     "data": {
      "text/html": [
       "<div>\n",
       "<style scoped>\n",
       "    .dataframe tbody tr th:only-of-type {\n",
       "        vertical-align: middle;\n",
       "    }\n",
       "\n",
       "    .dataframe tbody tr th {\n",
       "        vertical-align: top;\n",
       "    }\n",
       "\n",
       "    .dataframe thead th {\n",
       "        text-align: right;\n",
       "    }\n",
       "</style>\n",
       "<table border=\"1\" class=\"dataframe\">\n",
       "  <thead>\n",
       "    <tr style=\"text-align: right;\">\n",
       "      <th></th>\n",
       "      <th>f(c) for each iteration</th>\n",
       "      <th>c</th>\n",
       "    </tr>\n",
       "  </thead>\n",
       "  <tbody>\n",
       "    <tr>\n",
       "      <th>0</th>\n",
       "      <td>-0.383694</td>\n",
       "      <td>1.500000</td>\n",
       "    </tr>\n",
       "    <tr>\n",
       "      <th>1</th>\n",
       "      <td>1.144048</td>\n",
       "      <td>1.750000</td>\n",
       "    </tr>\n",
       "    <tr>\n",
       "      <th>2</th>\n",
       "      <td>0.407751</td>\n",
       "      <td>1.625000</td>\n",
       "    </tr>\n",
       "    <tr>\n",
       "      <th>3</th>\n",
       "      <td>0.015247</td>\n",
       "      <td>1.562500</td>\n",
       "    </tr>\n",
       "    <tr>\n",
       "      <th>4</th>\n",
       "      <td>-0.183884</td>\n",
       "      <td>1.531250</td>\n",
       "    </tr>\n",
       "    <tr>\n",
       "      <th>5</th>\n",
       "      <td>-0.084175</td>\n",
       "      <td>1.546875</td>\n",
       "    </tr>\n",
       "    <tr>\n",
       "      <th>6</th>\n",
       "      <td>-0.034421</td>\n",
       "      <td>1.554688</td>\n",
       "    </tr>\n",
       "    <tr>\n",
       "      <th>7</th>\n",
       "      <td>-0.009576</td>\n",
       "      <td>1.558594</td>\n",
       "    </tr>\n",
       "    <tr>\n",
       "      <th>8</th>\n",
       "      <td>0.002839</td>\n",
       "      <td>1.560547</td>\n",
       "    </tr>\n",
       "    <tr>\n",
       "      <th>9</th>\n",
       "      <td>-0.003368</td>\n",
       "      <td>1.559570</td>\n",
       "    </tr>\n",
       "    <tr>\n",
       "      <th>10</th>\n",
       "      <td>-0.000264</td>\n",
       "      <td>1.560059</td>\n",
       "    </tr>\n",
       "    <tr>\n",
       "      <th>11</th>\n",
       "      <td>0.001287</td>\n",
       "      <td>1.560303</td>\n",
       "    </tr>\n",
       "    <tr>\n",
       "      <th>12</th>\n",
       "      <td>0.000511</td>\n",
       "      <td>1.560181</td>\n",
       "    </tr>\n",
       "    <tr>\n",
       "      <th>13</th>\n",
       "      <td>0.000124</td>\n",
       "      <td>1.560120</td>\n",
       "    </tr>\n",
       "    <tr>\n",
       "      <th>14</th>\n",
       "      <td>-0.000070</td>\n",
       "      <td>1.560089</td>\n",
       "    </tr>\n",
       "    <tr>\n",
       "      <th>15</th>\n",
       "      <td>0.000027</td>\n",
       "      <td>1.560104</td>\n",
       "    </tr>\n",
       "    <tr>\n",
       "      <th>16</th>\n",
       "      <td>-0.000022</td>\n",
       "      <td>1.560097</td>\n",
       "    </tr>\n",
       "    <tr>\n",
       "      <th>17</th>\n",
       "      <td>0.000002</td>\n",
       "      <td>1.560101</td>\n",
       "    </tr>\n",
       "  </tbody>\n",
       "</table>\n",
       "</div>"
      ],
      "text/plain": [
       "    f(c) for each iteration         c\n",
       "0                 -0.383694  1.500000\n",
       "1                  1.144048  1.750000\n",
       "2                  0.407751  1.625000\n",
       "3                  0.015247  1.562500\n",
       "4                 -0.183884  1.531250\n",
       "5                 -0.084175  1.546875\n",
       "6                 -0.034421  1.554688\n",
       "7                 -0.009576  1.558594\n",
       "8                  0.002839  1.560547\n",
       "9                 -0.003368  1.559570\n",
       "10                -0.000264  1.560059\n",
       "11                 0.001287  1.560303\n",
       "12                 0.000511  1.560181\n",
       "13                 0.000124  1.560120\n",
       "14                -0.000070  1.560089\n",
       "15                 0.000027  1.560104\n",
       "16                -0.000022  1.560097\n",
       "17                 0.000002  1.560101"
      ]
     },
     "execution_count": 9,
     "metadata": {},
     "output_type": "execute_result"
    }
   ],
   "source": [
    "question1aValues=pd.DataFrame(bisection(1,2,equation1), columns=[\"f(c) for each iteration\",\"c\"])\n",
    "question1aValues"
   ]
  },
  {
   "cell_type": "markdown",
   "metadata": {},
   "source": [
    "##### x=c doğrusunun değişimi"
   ]
  },
  {
   "cell_type": "markdown",
   "metadata": {},
   "source": [
    "Tablodaki bazı değerleri grafik üzerinde gösterirsek:<br>\n",
    "(Her aşamada çizginin tonunun koyulaştığına dikkat ediniz)"
   ]
  },
  {
   "cell_type": "code",
   "execution_count": 10,
   "metadata": {
    "scrolled": false
   },
   "outputs": [
    {
     "data": {
      "text/plain": [
       "Text(0.5, 1.0, 'Change of x=c')"
      ]
     },
     "execution_count": 10,
     "metadata": {},
     "output_type": "execute_result"
    },
    {
     "data": {
      "image/png": "[encoded data removed]",
      "text/plain": [
       "<Figure size 432x288 with 1 Axes>"
      ]
     },
     "metadata": {
      "needs_background": "dark"
     },
     "output_type": "display_data"
    }
   ],
   "source": [
    "x=np.arange(0,2,0.01)\n",
    "fx=np.exp(-2*x)*x+x*np.cos(x)-4*np.sin(2*x)\n",
    "plt.plot(x,fx)\n",
    "plt.axvline(x=c, color=\"0.95\")\n",
    "plt.axvline(x=1.75, color=\"0.9\")\n",
    "plt.axvline(x=1.625, color=\"0.82\")\n",
    "plt.axvline(x=1.531250, color=\"0.75\")\n",
    "plt.axvline(x=1.560547, color=\"0.5\")\n",
    "plt.axvline(x=1.560303, color=\"0.1\")\n",
    "plt.axvline(x=1.560101, color=\"black\")\n",
    "plt.axvline(x=0, color=\"red\")\n",
    "plt.axhline(y=0, color=\"red\")\n",
    "plt.axvline(x=a, color=\"pink\") \n",
    "plt.axvline(x=b, color=\"pink\")\n",
    "plt.title(\"Change of x=c\")"
   ]
  },
  {
   "cell_type": "markdown",
   "metadata": {},
   "source": [
    "##### c'nin değişim grafiği:"
   ]
  },
  {
   "cell_type": "code",
   "execution_count": 11,
   "metadata": {
    "scrolled": true
   },
   "outputs": [
    {
     "data": {
      "text/plain": [
       "Text(0.5, 1.0, \"Change of 'c' through iterations\")"
      ]
     },
     "execution_count": 11,
     "metadata": {},
     "output_type": "execute_result"
    },
    {
     "data": {
      "image/png": "[encoded data removed]",
      "text/plain": [
       "<Figure size 432x288 with 1 Axes>"
      ]
     },
     "metadata": {
      "needs_background": "dark"
     },
     "output_type": "display_data"
    }
   ],
   "source": [
    "plt.plot(question1aValues[\"c\"], marker=\"o\")\n",
    "plt.title(\"Change of 'c' through iterations\")"
   ]
  },
  {
   "cell_type": "markdown",
   "metadata": {},
   "source": [
    "### 1.b. Regula Falsi Yöntemi"
   ]
  },
  {
   "cell_type": "code",
   "execution_count": 12,
   "metadata": {
    "scrolled": true
   },
   "outputs": [
    {
     "data": {
      "text/plain": [
       "Text(0.5, 1.0, 'Line on (f(a),f(b))')"
      ]
     },
     "execution_count": 12,
     "metadata": {},
     "output_type": "execute_result"
    },
    {
     "data": {
      "image/png": "[encoded data removed]",
      "text/plain": [
       "<Figure size 432x288 with 1 Axes>"
      ]
     },
     "metadata": {
      "needs_background": "dark"
     },
     "output_type": "display_data"
    }
   ],
   "source": [
    "x=np.arange(0.75,2.25,0.01)\n",
    "fx=np.exp(-2*x)*x+x*np.cos(x)-4*np.sin(2*x)\n",
    "gx=((equation1(b)-equation1(a))/(b-a))*(x-b)+equation1(b) #g(x)=(f(b)-f(a))*(x-b)+f(b) doğrumuz yeşil\n",
    "plt.plot(x,fx)\n",
    "plt.plot(x,gx, color=\"green\")\n",
    "plt.axhline(y=0, color=\"red\")\n",
    "plt.axvline(x=a, color=\"pink\") \n",
    "plt.axvline(x=b, color=\"pink\") #x=a ve x=b pembe\n",
    "plt.title(\"Line on (f(a),f(b))\")"
   ]
  },
  {
   "cell_type": "markdown",
   "metadata": {},
   "source": [
    "Regula Falsi yöntemi için __regulafalsi__ adında bir fonksiyon tanımlıyoruz.<br>Fonksiyonun üç adet parametresi var: \n",
    "\n",
    "(1) Sol sınır: left_bound<br>(2) Sağ sınır: right_bound<br>(3) Eğri: equation  \n",
    "\n",
    "Fonksiyon parametreleri aldıktan sonra<br>\n",
    "$$x_\\omega = -\\frac{af(b) - bf(a)}{f(a)-f(b)}$$\n",
    "<br>denkleminden yola çıkarak xw'yı hesaplıyor.<br>Eğer |f(xw)| toleranstan büyükse, kökün f(xw)'nın hangi tarafında olduğunu bulup f(xw)yı sağ ya da sol sınırla değiştiriyor.<br>İstenen koşul sağlanana kadar döngüye devam ediyor."
   ]
  },
  {
   "cell_type": "code",
   "execution_count": 13,
   "metadata": {
    "scrolled": true
   },
   "outputs": [],
   "source": [
    "def regulafalsi(left_bound,right_bound,equation):\n",
    "    xw=-(left_bound*equation(right_bound)-right_bound*equation(left_bound))/(equation(left_bound)-equation(right_bound))\n",
    "    yield equation(xw),xw\n",
    "    while np.absolute(equation(xw))>0.00001: #işaret farkından yola çıkarak kökün yönü bulunuyor\n",
    "        if equation(left_bound)*equation(xw)>0:\n",
    "            left_bound=xw\n",
    "        else:\n",
    "            right_bound=xw\n",
    "        xw=-(left_bound*equation(right_bound)-right_bound*equation(left_bound))/(equation(left_bound)-equation(right_bound))\n",
    "        yield equation(xw),xw"
   ]
  },
  {
   "cell_type": "markdown",
   "metadata": {},
   "source": [
    "    regulafalsi(1,2,equation1)  \n",
    "Fonksiyona parametreleri girdikten sonra sonucu data frame şeklinde alıyoruz:"
   ]
  },
  {
   "cell_type": "code",
   "execution_count": 14,
   "metadata": {
    "scrolled": true
   },
   "outputs": [
    {
     "data": {
      "text/html": [
       "<div>\n",
       "<style scoped>\n",
       "    .dataframe tbody tr th:only-of-type {\n",
       "        vertical-align: middle;\n",
       "    }\n",
       "\n",
       "    .dataframe tbody tr th {\n",
       "        vertical-align: top;\n",
       "    }\n",
       "\n",
       "    .dataframe thead th {\n",
       "        text-align: right;\n",
       "    }\n",
       "</style>\n",
       "<table border=\"1\" class=\"dataframe\">\n",
       "  <thead>\n",
       "    <tr style=\"text-align: right;\">\n",
       "      <th></th>\n",
       "      <th>f(xw) for each iteration</th>\n",
       "      <th>xw</th>\n",
       "    </tr>\n",
       "  </thead>\n",
       "  <tbody>\n",
       "    <tr>\n",
       "      <th>0</th>\n",
       "      <td>6.464632e-02</td>\n",
       "      <td>1.570286</td>\n",
       "    </tr>\n",
       "    <tr>\n",
       "      <th>1</th>\n",
       "      <td>-1.269302e-02</td>\n",
       "      <td>1.558103</td>\n",
       "    </tr>\n",
       "    <tr>\n",
       "      <th>2</th>\n",
       "      <td>1.688525e-05</td>\n",
       "      <td>1.560103</td>\n",
       "    </tr>\n",
       "    <tr>\n",
       "      <th>3</th>\n",
       "      <td>4.124172e-09</td>\n",
       "      <td>1.560100</td>\n",
       "    </tr>\n",
       "  </tbody>\n",
       "</table>\n",
       "</div>"
      ],
      "text/plain": [
       "   f(xw) for each iteration        xw\n",
       "0              6.464632e-02  1.570286\n",
       "1             -1.269302e-02  1.558103\n",
       "2              1.688525e-05  1.560103\n",
       "3              4.124172e-09  1.560100"
      ]
     },
     "execution_count": 14,
     "metadata": {},
     "output_type": "execute_result"
    }
   ],
   "source": [
    "question1bValues=pd.DataFrame(regulafalsi(1,2,equation1), columns=[\"f(xw) for each iteration\",\"xw\"])\n",
    "question1bValues"
   ]
  },
  {
   "cell_type": "markdown",
   "metadata": {},
   "source": [
    "##### xw'nın değişim grafiği:"
   ]
  },
  {
   "cell_type": "code",
   "execution_count": 15,
   "metadata": {},
   "outputs": [
    {
     "data": {
      "text/plain": [
       "Text(0.5, 1.0, \"Change of 'xw' through iterations\")"
      ]
     },
     "execution_count": 15,
     "metadata": {},
     "output_type": "execute_result"
    },
    {
     "data": {
      "image/png": "[encoded data removed]",
      "text/plain": [
       "<Figure size 432x288 with 1 Axes>"
      ]
     },
     "metadata": {
      "needs_background": "dark"
     },
     "output_type": "display_data"
    }
   ],
   "source": [
    "plt.plot(question1bValues[\"xw\"], marker=\"o\")\n",
    "plt.title(\"Change of 'xw' through iterations\")"
   ]
  },
  {
   "cell_type": "markdown",
   "metadata": {},
   "source": [
    "### 1.c. Newton-Raphson Yöntemi"
   ]
  },
  {
   "cell_type": "markdown",
   "metadata": {},
   "source": [
    "$$\\frac{d}{dx}f\\left(x\\right)=-2e^{-2x}x+e^{-2x}+\\cos \\:\\left(x\\right)-x\\sin \\:\\left(x\\right)-8\\cos \\:\\left(2x\\right)$$<br>\n",
    "Verilen fonksiyonun türevini equation1Derivative olarak tanımlıyoruz:"
   ]
  },
  {
   "cell_type": "code",
   "execution_count": 16,
   "metadata": {},
   "outputs": [],
   "source": [
    "equation1Derivative = lambda x: -2*np.exp(-2*x)*x+np.exp(-2*x)+np.cos(x)-x*np.sin(x)-8*np.cos(2*x)"
   ]
  },
  {
   "cell_type": "markdown",
   "metadata": {},
   "source": [
    "##### f(1) noktasında eğriye teğet doğrunun grafiği"
   ]
  },
  {
   "cell_type": "code",
   "execution_count": 17,
   "metadata": {
    "scrolled": false
   },
   "outputs": [
    {
     "data": {
      "text/plain": [
       "Text(0.5, 1.0, 'Tangent on curve at f(1)')"
      ]
     },
     "execution_count": 17,
     "metadata": {},
     "output_type": "execute_result"
    },
    {
     "data": {
      "image/png": "[encoded data removed]",
      "text/plain": [
       "<Figure size 432x288 with 1 Axes>"
      ]
     },
     "metadata": {
      "needs_background": "dark"
     },
     "output_type": "display_data"
    }
   ],
   "source": [
    "x=np.arange(0.75,2.25,0.01)\n",
    "fx=np.exp(-2*x)*x+x*np.cos(x)-4*np.sin(2*x)\n",
    "tangent0=equation1Derivative(1)*(x-1)+equation1(1) #x=1'de fonksiyona teğet doğrumuz yeşil renkte\n",
    "plt.plot(x,fx)\n",
    "plt.plot(x,tangent0, color=\"green\")\n",
    "plt.axhline(y=0, color=\"red\")\n",
    "plt.title(\"Tangent on curve at f(1)\")"
   ]
  },
  {
   "cell_type": "markdown",
   "metadata": {},
   "source": [
    "Newton-Raphson yöntemi için __newtonraphson__ adında bir fonksiyon tanımlıyoruz.<br>Fonksiyonun üç adet parametresi var: \n",
    "\n",
    "(1) Başlangıç koşulu: xn<br>(2) Eğri: equation<br>(3) Eğrinin türevi: derivative  \n",
    "\n",
    "Fonksiyon parametreleri aldıktan sonra<br>\n",
    "$$x_{n+1} = x_n-\\frac{f(x_n)}{f'(x_n)}$$\n",
    "<br>denkleminden yola çıkarak xplus1'ı hesaplıyor. (xn+1'i bu şekilde tanımladık)<br>Döngü koşulumuz sağlanana kadar bulduğumuz yeni değeri eskisinin yerine yazıyoruz. (xn yerine xn+1, xn+1 yerine xn+2... şeklinde)<br>"
   ]
  },
  {
   "cell_type": "code",
   "execution_count": 18,
   "metadata": {},
   "outputs": [],
   "source": [
    "def newtonraphson(xn,equation,derivative):\n",
    "    xnplus1=xn-(equation(xn)/derivative(xn)) #formülden\n",
    "    yield equation(xn),xn\n",
    "    while np.absolute(equation(xnplus1))>0.00001:\n",
    "        xnplus1=xnplus1-(equation(xnplus1)/derivative(xnplus1)) #xn yerine xn+1 (xnplus1) yazdık\n",
    "        yield equation(xnplus1),xnplus1"
   ]
  },
  {
   "cell_type": "markdown",
   "metadata": {},
   "source": [
    "    newtonraphson(1,equation1,equation1Derivative)  \n",
    "Fonksiyona parametreleri girdikten sonra sonucu data frame şeklinde alıyoruz:"
   ]
  },
  {
   "cell_type": "code",
   "execution_count": 19,
   "metadata": {
    "scrolled": true
   },
   "outputs": [
    {
     "data": {
      "text/html": [
       "<div>\n",
       "<style scoped>\n",
       "    .dataframe tbody tr th:only-of-type {\n",
       "        vertical-align: middle;\n",
       "    }\n",
       "\n",
       "    .dataframe tbody tr th {\n",
       "        vertical-align: top;\n",
       "    }\n",
       "\n",
       "    .dataframe thead th {\n",
       "        text-align: right;\n",
       "    }\n",
       "</style>\n",
       "<table border=\"1\" class=\"dataframe\">\n",
       "  <thead>\n",
       "    <tr style=\"text-align: right;\">\n",
       "      <th></th>\n",
       "      <th>f(xn) for each iteration</th>\n",
       "      <th>xn</th>\n",
       "    </tr>\n",
       "  </thead>\n",
       "  <tbody>\n",
       "    <tr>\n",
       "      <th>0</th>\n",
       "      <td>-2.961552e+00</td>\n",
       "      <td>1.000000</td>\n",
       "    </tr>\n",
       "    <tr>\n",
       "      <th>1</th>\n",
       "      <td>-2.405680e+00</td>\n",
       "      <td>1.148260</td>\n",
       "    </tr>\n",
       "    <tr>\n",
       "      <th>2</th>\n",
       "      <td>7.296814e-01</td>\n",
       "      <td>1.677938</td>\n",
       "    </tr>\n",
       "    <tr>\n",
       "      <th>3</th>\n",
       "      <td>-2.924897e-02</td>\n",
       "      <td>1.555500</td>\n",
       "    </tr>\n",
       "    <tr>\n",
       "      <th>4</th>\n",
       "      <td>-1.566014e-05</td>\n",
       "      <td>1.560098</td>\n",
       "    </tr>\n",
       "    <tr>\n",
       "      <th>5</th>\n",
       "      <td>-4.782591e-12</td>\n",
       "      <td>1.560100</td>\n",
       "    </tr>\n",
       "  </tbody>\n",
       "</table>\n",
       "</div>"
      ],
      "text/plain": [
       "   f(xn) for each iteration        xn\n",
       "0             -2.961552e+00  1.000000\n",
       "1             -2.405680e+00  1.148260\n",
       "2              7.296814e-01  1.677938\n",
       "3             -2.924897e-02  1.555500\n",
       "4             -1.566014e-05  1.560098\n",
       "5             -4.782591e-12  1.560100"
      ]
     },
     "execution_count": 19,
     "metadata": {},
     "output_type": "execute_result"
    }
   ],
   "source": [
    "question1cValues=pd.DataFrame(newtonraphson(1,equation1,equation1Derivative), columns=[\"f(xn) for each iteration\",\"xn\"])\n",
    "question1cValues"
   ]
  },
  {
   "cell_type": "markdown",
   "metadata": {},
   "source": [
    "##### Teğet doğruların değişimi"
   ]
  },
  {
   "cell_type": "markdown",
   "metadata": {},
   "source": [
    "Bulduğumuz değerlerden bazılarını kullanarak yeni teğetler oluşturalım:<br>\n",
    "(Köke yaklaştıkça çizgilerin tonundaki koyulaşmaya dikkat ediniz)"
   ]
  },
  {
   "cell_type": "code",
   "execution_count": 20,
   "metadata": {},
   "outputs": [
    {
     "data": {
      "text/plain": [
       "Text(0.5, 1.0, 'Change of tangent lines')"
      ]
     },
     "execution_count": 20,
     "metadata": {},
     "output_type": "execute_result"
    },
    {
     "data": {
      "image/png": "[encoded data removed]",
      "text/plain": [
       "<Figure size 432x288 with 1 Axes>"
      ]
     },
     "metadata": {
      "needs_background": "dark"
     },
     "output_type": "display_data"
    }
   ],
   "source": [
    "x=np.arange(0.75,2.25,0.01)\n",
    "fx=np.exp(-2*x)*x+x*np.cos(x)-4*np.sin(2*x)\n",
    "tangent0=equation1Derivative(1)*(x-1)+equation1(1)\n",
    "tangent1=equation1Derivative(1.148260)*(x-1.148260)+equation1(1.148260)\n",
    "tangent2=equation1Derivative(1.677938)*(x-1.677938)+equation1(1.677938)\n",
    "tangent3=equation1Derivative(1.560100)*(x-1.560100)+equation1(1.560100)\n",
    "plt.plot(x,fx)\n",
    "plt.plot(x,tangent0, color=\"0.8\")\n",
    "plt.plot(x,tangent1, color=\"0.6\")\n",
    "plt.plot(x,tangent2, color=\"0.5\")\n",
    "plt.plot(x,tangent3, color=\"black\")\n",
    "plt.axhline(y=0, color=\"red\")\n",
    "plt.title(\"Change of tangent lines\")"
   ]
  },
  {
   "cell_type": "markdown",
   "metadata": {},
   "source": [
    "##### xn değerinin değişimi"
   ]
  },
  {
   "cell_type": "code",
   "execution_count": 21,
   "metadata": {
    "scrolled": false
   },
   "outputs": [
    {
     "data": {
      "text/plain": [
       "Text(0.5, 1.0, \"Change of 'xn' through iterations\")"
      ]
     },
     "execution_count": 21,
     "metadata": {},
     "output_type": "execute_result"
    },
    {
     "data": {
      "image/png": "[encoded data removed]",
      "text/plain": [
       "<Figure size 432x288 with 1 Axes>"
      ]
     },
     "metadata": {
      "needs_background": "dark"
     },
     "output_type": "display_data"
    }
   ],
   "source": [
    "plt.plot(question1cValues[\"xn\"], marker=\"o\")\n",
    "plt.title(\"Change of 'xn' through iterations\")"
   ]
  },
  {
   "cell_type": "code",
   "execution_count": 22,
   "metadata": {},
   "outputs": [],
   "source": [
    "equation3 = lambda x: np.sqrt(4*np.exp(-x)+3)"
   ]
  },
  {
   "cell_type": "markdown",
   "metadata": {},
   "source": [
    "## Soru 2"
   ]
  },
  {
   "cell_type": "markdown",
   "metadata": {},
   "source": [
    "### 2.a. Fonksiyon Seçimi"
   ]
  },
  {
   "cell_type": "markdown",
   "metadata": {},
   "source": [
    "İlk fonksiyonumuz:<br>$$x^{3}+\\cos(e)$$<br>olsun. Grafiğini inceledikten sonra equation2a olarak tanımlayalım."
   ]
  },
  {
   "cell_type": "code",
   "execution_count": 23,
   "metadata": {},
   "outputs": [
    {
     "data": {
      "text/plain": [
       "Text(0.5, 1.0, 'Function 1')"
      ]
     },
     "execution_count": 23,
     "metadata": {},
     "output_type": "execute_result"
    },
    {
     "data": {
      "image/png": "[encoded data removed]",
      "text/plain": [
       "<Figure size 432x288 with 1 Axes>"
      ]
     },
     "metadata": {
      "needs_background": "dark"
     },
     "output_type": "display_data"
    }
   ],
   "source": [
    "x=np.arange(0,2,0.01)\n",
    "fx=x**3+np.cos(np.e) #fonksiyonu tanımladık\n",
    "plt.plot(x,fx) #fonksiyonun grafiği\n",
    "plt.axvline(x=0, color=\"red\")\n",
    "plt.axhline(y=0, color=\"red\") #koordinat doğruları\n",
    "plt.title(\"Function 1\")"
   ]
  },
  {
   "cell_type": "code",
   "execution_count": 24,
   "metadata": {},
   "outputs": [],
   "source": [
    "equation2a = lambda x: x**3+np.cos(np.e)"
   ]
  },
  {
   "cell_type": "markdown",
   "metadata": {},
   "source": [
    "Diğer fonksiyonumuz:<br>$$e^{x}-\\left(x-2\\right)^{2}-3x$$<br>olsun. Grafiğini inceledikten sonra equation2b olarak tanımlayalım."
   ]
  },
  {
   "cell_type": "code",
   "execution_count": 25,
   "metadata": {},
   "outputs": [
    {
     "data": {
      "text/plain": [
       "Text(0.5, 1.0, 'Function 2')"
      ]
     },
     "execution_count": 25,
     "metadata": {},
     "output_type": "execute_result"
    },
    {
     "data": {
      "image/png": "[encoded data removed]",
      "text/plain": [
       "<Figure size 432x288 with 1 Axes>"
      ]
     },
     "metadata": {
      "needs_background": "dark"
     },
     "output_type": "display_data"
    }
   ],
   "source": [
    "x=np.arange(0,2,0.01)\n",
    "fx=np.e**x-(x-2)**2-3*(x) #fonksiyonu tanımladık\n",
    "plt.plot(x,fx) #fonksiyonun grafiği\n",
    "plt.axvline(x=0, color=\"red\")\n",
    "plt.axhline(y=0, color=\"red\") #koordinat doğruları\n",
    "plt.title(\"Function 2\")"
   ]
  },
  {
   "cell_type": "code",
   "execution_count": 26,
   "metadata": {},
   "outputs": [],
   "source": [
    "equation2b = lambda x: np.e**x-(x-2)**2-3*(x)"
   ]
  },
  {
   "cell_type": "markdown",
   "metadata": {},
   "source": [
    "Son fonksiyonumuz ikinci derece polinom olsun:<br>$$-x^{2}+4x-2$$<br>Grafiğini inceledikten sonra equation2c olarak tanımlayalım."
   ]
  },
  {
   "cell_type": "code",
   "execution_count": 27,
   "metadata": {},
   "outputs": [
    {
     "data": {
      "text/plain": [
       "Text(0.5, 1.0, 'Function 3')"
      ]
     },
     "execution_count": 27,
     "metadata": {},
     "output_type": "execute_result"
    },
    {
     "data": {
      "image/png": "[encoded data removed]",
      "text/plain": [
       "<Figure size 432x288 with 1 Axes>"
      ]
     },
     "metadata": {
      "needs_background": "dark"
     },
     "output_type": "display_data"
    }
   ],
   "source": [
    "x=np.arange(0,2,0.01)\n",
    "fx=-(x**2)+4*x-2 #fonksiyonu tanımladık\n",
    "plt.plot(x,fx) #fonksiyonun grafiği\n",
    "plt.axvline(x=0, color=\"red\")\n",
    "plt.axhline(y=0, color=\"red\") #koordinat doğruları\n",
    "plt.title(\"Function 3\")"
   ]
  },
  {
   "cell_type": "code",
   "execution_count": 28,
   "metadata": {},
   "outputs": [],
   "source": [
    "equation2c = lambda x: -(x**2)+4*x-2"
   ]
  },
  {
   "cell_type": "markdown",
   "metadata": {},
   "source": [
    "### 2.b. Secant ve Müller Yöntemleri"
   ]
  },
  {
   "cell_type": "markdown",
   "metadata": {},
   "source": [
    "#### Secant Yöntemi:"
   ]
  },
  {
   "cell_type": "markdown",
   "metadata": {},
   "source": [
    "Secant yöntemi için __secant__ adında bir fonksiyon tanımlıyoruz.<br>Fonksiyonun üç adet parametresi var: \n",
    "\n",
    "(1) İlk başlangıç koşulu: xn<br>(2) İkinci başlangıç koşulu: xnminus1<br>(3) Eğri: equation  \n",
    "\n",
    "Fonksiyon parametreleri aldıktan sonra<br>\n",
    "$$x_{n+1}=x_{n}-\\frac{f\\left(x_{n}\\right)}{\\frac{f\\left(x_{n}\\right)-f\\left(x_{n-1}\\right)}{x_{n}-x_{n-1}}}$$\n",
    "<br>denkleminden yola çıkarak xnplus1'ı hesaplıyor. (xn+1'i bu şekilde tanımladık)<br>Ardından bulduğu xnplus1 ile xnplus2'yu hesaplıyor. (Bunun amacı while döngüsünün içine herhangi bir parametre sokmamak)<br>Döngü koşulumuz sağlanana kadar bulduğumuz yeni değeri eskisinin yerine yazıyoruz. (xn yerine xn+1, xn+1 yerine xn+2... şeklinde)<br>"
   ]
  },
  {
   "cell_type": "code",
   "execution_count": 29,
   "metadata": {},
   "outputs": [],
   "source": [
    "def secant(xn,xnminus1,equation):\n",
    "    xnplus1=xn-(equation(xn)/((equation(xn)-equation(xnminus1))/xn-xnminus1))\n",
    "    xnplus2=xnplus1-(equation(xnplus1)/((equation(xnplus1)-equation(xn))/xnplus1-xn)) #döngüde parametre istemiyoruz\n",
    "    yield equation(xn),xn\n",
    "    while np.absolute(equation(xnplus2))!=0:\n",
    "        xnplus2=xnplus2-(equation(xnplus2)/((equation(xnplus2)-equation(xnplus1))/xnplus2-xnplus1))\n",
    "        yield equation(xnplus2),xnplus2"
   ]
  },
  {
   "cell_type": "markdown",
   "metadata": {},
   "source": [
    "##### Birinci fonksiyon (equation2a)"
   ]
  },
  {
   "cell_type": "markdown",
   "metadata": {},
   "source": [
    "Başlangıç koşulları 0.25 ve 0.5"
   ]
  },
  {
   "cell_type": "code",
   "execution_count": 30,
   "metadata": {
    "scrolled": false
   },
   "outputs": [
    {
     "data": {
      "text/html": [
       "<div>\n",
       "<style scoped>\n",
       "    .dataframe tbody tr th:only-of-type {\n",
       "        vertical-align: middle;\n",
       "    }\n",
       "\n",
       "    .dataframe tbody tr th {\n",
       "        vertical-align: top;\n",
       "    }\n",
       "\n",
       "    .dataframe thead th {\n",
       "        text-align: right;\n",
       "    }\n",
       "</style>\n",
       "<table border=\"1\" class=\"dataframe\">\n",
       "  <thead>\n",
       "    <tr style=\"text-align: right;\">\n",
       "      <th></th>\n",
       "      <th>f(xn) for each iteration</th>\n",
       "      <th>xn</th>\n",
       "    </tr>\n",
       "  </thead>\n",
       "  <tbody>\n",
       "    <tr>\n",
       "      <th>0</th>\n",
       "      <td>-8.961089e-01</td>\n",
       "      <td>0.250000</td>\n",
       "    </tr>\n",
       "    <tr>\n",
       "      <th>1</th>\n",
       "      <td>-8.968854e-01</td>\n",
       "      <td>0.245788</td>\n",
       "    </tr>\n",
       "    <tr>\n",
       "      <th>2</th>\n",
       "      <td>-6.319942e-01</td>\n",
       "      <td>0.654010</td>\n",
       "    </tr>\n",
       "    <tr>\n",
       "      <th>3</th>\n",
       "      <td>1.878732e-01</td>\n",
       "      <td>1.032157</td>\n",
       "    </tr>\n",
       "    <tr>\n",
       "      <th>4</th>\n",
       "      <td>-7.264273e-02</td>\n",
       "      <td>0.943198</td>\n",
       "    </tr>\n",
       "    <tr>\n",
       "      <th>5</th>\n",
       "      <td>2.975866e-02</td>\n",
       "      <td>0.980104</td>\n",
       "    </tr>\n",
       "    <tr>\n",
       "      <th>6</th>\n",
       "      <td>-1.195425e-02</td>\n",
       "      <td>0.965411</td>\n",
       "    </tr>\n",
       "    <tr>\n",
       "      <th>7</th>\n",
       "      <td>4.843724e-03</td>\n",
       "      <td>0.971381</td>\n",
       "    </tr>\n",
       "    <tr>\n",
       "      <th>8</th>\n",
       "      <td>-1.955996e-03</td>\n",
       "      <td>0.968973</td>\n",
       "    </tr>\n",
       "    <tr>\n",
       "      <th>9</th>\n",
       "      <td>7.909666e-04</td>\n",
       "      <td>0.969948</td>\n",
       "    </tr>\n",
       "    <tr>\n",
       "      <th>10</th>\n",
       "      <td>-3.196733e-04</td>\n",
       "      <td>0.969554</td>\n",
       "    </tr>\n",
       "    <tr>\n",
       "      <th>11</th>\n",
       "      <td>1.292268e-04</td>\n",
       "      <td>0.969713</td>\n",
       "    </tr>\n",
       "    <tr>\n",
       "      <th>12</th>\n",
       "      <td>-5.223472e-05</td>\n",
       "      <td>0.969649</td>\n",
       "    </tr>\n",
       "    <tr>\n",
       "      <th>13</th>\n",
       "      <td>2.111455e-05</td>\n",
       "      <td>0.969675</td>\n",
       "    </tr>\n",
       "    <tr>\n",
       "      <th>14</th>\n",
       "      <td>-8.534893e-06</td>\n",
       "      <td>0.969664</td>\n",
       "    </tr>\n",
       "    <tr>\n",
       "      <th>15</th>\n",
       "      <td>3.449982e-06</td>\n",
       "      <td>0.969668</td>\n",
       "    </tr>\n",
       "    <tr>\n",
       "      <th>16</th>\n",
       "      <td>-1.394552e-06</td>\n",
       "      <td>0.969667</td>\n",
       "    </tr>\n",
       "    <tr>\n",
       "      <th>17</th>\n",
       "      <td>5.637061e-07</td>\n",
       "      <td>0.969667</td>\n",
       "    </tr>\n",
       "    <tr>\n",
       "      <th>18</th>\n",
       "      <td>-2.278614e-07</td>\n",
       "      <td>0.969667</td>\n",
       "    </tr>\n",
       "    <tr>\n",
       "      <th>19</th>\n",
       "      <td>9.210619e-08</td>\n",
       "      <td>0.969667</td>\n",
       "    </tr>\n",
       "    <tr>\n",
       "      <th>20</th>\n",
       "      <td>-3.723118e-08</td>\n",
       "      <td>0.969667</td>\n",
       "    </tr>\n",
       "    <tr>\n",
       "      <th>21</th>\n",
       "      <td>1.504960e-08</td>\n",
       "      <td>0.969667</td>\n",
       "    </tr>\n",
       "    <tr>\n",
       "      <th>22</th>\n",
       "      <td>-6.083351e-09</td>\n",
       "      <td>0.969667</td>\n",
       "    </tr>\n",
       "    <tr>\n",
       "      <th>23</th>\n",
       "      <td>2.459014e-09</td>\n",
       "      <td>0.969667</td>\n",
       "    </tr>\n",
       "    <tr>\n",
       "      <th>24</th>\n",
       "      <td>-9.939831e-10</td>\n",
       "      <td>0.969667</td>\n",
       "    </tr>\n",
       "    <tr>\n",
       "      <th>25</th>\n",
       "      <td>4.017882e-10</td>\n",
       "      <td>0.969667</td>\n",
       "    </tr>\n",
       "    <tr>\n",
       "      <th>26</th>\n",
       "      <td>-1.624109e-10</td>\n",
       "      <td>0.969667</td>\n",
       "    </tr>\n",
       "    <tr>\n",
       "      <th>27</th>\n",
       "      <td>6.564971e-11</td>\n",
       "      <td>0.969667</td>\n",
       "    </tr>\n",
       "    <tr>\n",
       "      <th>28</th>\n",
       "      <td>-2.653688e-11</td>\n",
       "      <td>0.969667</td>\n",
       "    </tr>\n",
       "    <tr>\n",
       "      <th>29</th>\n",
       "      <td>1.072664e-11</td>\n",
       "      <td>0.969667</td>\n",
       "    </tr>\n",
       "    <tr>\n",
       "      <th>30</th>\n",
       "      <td>-4.335754e-12</td>\n",
       "      <td>0.969667</td>\n",
       "    </tr>\n",
       "    <tr>\n",
       "      <th>31</th>\n",
       "      <td>1.752487e-12</td>\n",
       "      <td>0.969667</td>\n",
       "    </tr>\n",
       "    <tr>\n",
       "      <th>32</th>\n",
       "      <td>-7.083223e-13</td>\n",
       "      <td>0.969667</td>\n",
       "    </tr>\n",
       "    <tr>\n",
       "      <th>33</th>\n",
       "      <td>2.862155e-13</td>\n",
       "      <td>0.969667</td>\n",
       "    </tr>\n",
       "    <tr>\n",
       "      <th>34</th>\n",
       "      <td>-1.155742e-13</td>\n",
       "      <td>0.969667</td>\n",
       "    </tr>\n",
       "    <tr>\n",
       "      <th>35</th>\n",
       "      <td>4.674039e-14</td>\n",
       "      <td>0.969667</td>\n",
       "    </tr>\n",
       "    <tr>\n",
       "      <th>36</th>\n",
       "      <td>-1.909584e-14</td>\n",
       "      <td>0.969667</td>\n",
       "    </tr>\n",
       "    <tr>\n",
       "      <th>37</th>\n",
       "      <td>7.882583e-15</td>\n",
       "      <td>0.969667</td>\n",
       "    </tr>\n",
       "    <tr>\n",
       "      <th>38</th>\n",
       "      <td>-3.108624e-15</td>\n",
       "      <td>0.969667</td>\n",
       "    </tr>\n",
       "    <tr>\n",
       "      <th>39</th>\n",
       "      <td>1.221245e-15</td>\n",
       "      <td>0.969667</td>\n",
       "    </tr>\n",
       "    <tr>\n",
       "      <th>40</th>\n",
       "      <td>-3.330669e-16</td>\n",
       "      <td>0.969667</td>\n",
       "    </tr>\n",
       "    <tr>\n",
       "      <th>41</th>\n",
       "      <td>0.000000e+00</td>\n",
       "      <td>0.969667</td>\n",
       "    </tr>\n",
       "  </tbody>\n",
       "</table>\n",
       "</div>"
      ],
      "text/plain": [
       "    f(xn) for each iteration        xn\n",
       "0              -8.961089e-01  0.250000\n",
       "1              -8.968854e-01  0.245788\n",
       "2              -6.319942e-01  0.654010\n",
       "3               1.878732e-01  1.032157\n",
       "4              -7.264273e-02  0.943198\n",
       "5               2.975866e-02  0.980104\n",
       "6              -1.195425e-02  0.965411\n",
       "7               4.843724e-03  0.971381\n",
       "8              -1.955996e-03  0.968973\n",
       "9               7.909666e-04  0.969948\n",
       "10             -3.196733e-04  0.969554\n",
       "11              1.292268e-04  0.969713\n",
       "12             -5.223472e-05  0.969649\n",
       "13              2.111455e-05  0.969675\n",
       "14             -8.534893e-06  0.969664\n",
       "15              3.449982e-06  0.969668\n",
       "16             -1.394552e-06  0.969667\n",
       "17              5.637061e-07  0.969667\n",
       "18             -2.278614e-07  0.969667\n",
       "19              9.210619e-08  0.969667\n",
       "20             -3.723118e-08  0.969667\n",
       "21              1.504960e-08  0.969667\n",
       "22             -6.083351e-09  0.969667\n",
       "23              2.459014e-09  0.969667\n",
       "24             -9.939831e-10  0.969667\n",
       "25              4.017882e-10  0.969667\n",
       "26             -1.624109e-10  0.969667\n",
       "27              6.564971e-11  0.969667\n",
       "28             -2.653688e-11  0.969667\n",
       "29              1.072664e-11  0.969667\n",
       "30             -4.335754e-12  0.969667\n",
       "31              1.752487e-12  0.969667\n",
       "32             -7.083223e-13  0.969667\n",
       "33              2.862155e-13  0.969667\n",
       "34             -1.155742e-13  0.969667\n",
       "35              4.674039e-14  0.969667\n",
       "36             -1.909584e-14  0.969667\n",
       "37              7.882583e-15  0.969667\n",
       "38             -3.108624e-15  0.969667\n",
       "39              1.221245e-15  0.969667\n",
       "40             -3.330669e-16  0.969667\n",
       "41              0.000000e+00  0.969667"
      ]
     },
     "execution_count": 30,
     "metadata": {},
     "output_type": "execute_result"
    }
   ],
   "source": [
    "equation2aValues=pd.DataFrame(secant(0.25,0.5,equation2a), columns=[\"f(xn) for each iteration\",\"xn\"])\n",
    "equation2aValues"
   ]
  },
  {
   "cell_type": "markdown",
   "metadata": {},
   "source": [
    "Üç adet kirişi fonksiyon üzerinde görelim:<br>(Köke yaklaştıkça koyulaşıyor)"
   ]
  },
  {
   "cell_type": "code",
   "execution_count": 31,
   "metadata": {
    "scrolled": true
   },
   "outputs": [
    {
     "data": {
      "text/plain": [
       "Text(0.5, 1.0, 'Function 1 (Secant)')"
      ]
     },
     "execution_count": 31,
     "metadata": {},
     "output_type": "execute_result"
    },
    {
     "data": {
      "image/png": "[encoded data removed]",
      "text/plain": [
       "<Figure size 432x288 with 1 Axes>"
      ]
     },
     "metadata": {
      "needs_background": "dark"
     },
     "output_type": "display_data"
    }
   ],
   "source": [
    "x=np.arange(0,2,0.01)\n",
    "fx=x**3+np.cos(np.e) #fonksiyonu tanımladık\n",
    "secant1=((equation2a(0.245788)-equation2a(0.250000))/(0.245788-0.250000))*(x-0.245788)+equation2a(0.245788) #kirişler\n",
    "secant2=((equation2a(0.654010)-equation2a(1.032157))/(0.654010-1.032157))*(x-0.654010)+equation2a(0.654010)\n",
    "secant3=((equation2a(0.969675)-equation2a(0.969664))/(0.969675-0.969664))*(x-0.969675)+equation2a(0.969675)\n",
    "plt.plot(x,fx) #fonksiyonun grafiği\n",
    "plt.plot(x,secant1, color=\"0.8\")\n",
    "plt.plot(x,secant2, color=\"0.5\")\n",
    "plt.plot(x,secant3, color=\"black\")\n",
    "plt.axvline(x=0, color=\"red\")\n",
    "plt.axhline(y=0, color=\"red\") #koordinat doğruları\n",
    "plt.title(\"Function 1 (Secant)\")"
   ]
  },
  {
   "cell_type": "markdown",
   "metadata": {},
   "source": [
    "##### İkinci fonksiyon (equation2b)"
   ]
  },
  {
   "cell_type": "markdown",
   "metadata": {},
   "source": [
    "Başlangıç koşulları 0.25 ve 0.5"
   ]
  },
  {
   "cell_type": "code",
   "execution_count": 32,
   "metadata": {
    "scrolled": false
   },
   "outputs": [
    {
     "data": {
      "text/html": [
       "<div>\n",
       "<style scoped>\n",
       "    .dataframe tbody tr th:only-of-type {\n",
       "        vertical-align: middle;\n",
       "    }\n",
       "\n",
       "    .dataframe tbody tr th {\n",
       "        vertical-align: top;\n",
       "    }\n",
       "\n",
       "    .dataframe thead th {\n",
       "        text-align: right;\n",
       "    }\n",
       "</style>\n",
       "<table border=\"1\" class=\"dataframe\">\n",
       "  <thead>\n",
       "    <tr style=\"text-align: right;\">\n",
       "      <th></th>\n",
       "      <th>f(xn) for each iteration</th>\n",
       "      <th>xn</th>\n",
       "    </tr>\n",
       "  </thead>\n",
       "  <tbody>\n",
       "    <tr>\n",
       "      <th>0</th>\n",
       "      <td>-2.528475e+00</td>\n",
       "      <td>0.250000</td>\n",
       "    </tr>\n",
       "    <tr>\n",
       "      <th>1</th>\n",
       "      <td>-8.431002e-01</td>\n",
       "      <td>1.239436</td>\n",
       "    </tr>\n",
       "    <tr>\n",
       "      <th>2</th>\n",
       "      <td>-4.416760e-01</td>\n",
       "      <td>1.427636</td>\n",
       "    </tr>\n",
       "    <tr>\n",
       "      <th>3</th>\n",
       "      <td>-1.911122e-01</td>\n",
       "      <td>1.530630</td>\n",
       "    </tr>\n",
       "    <tr>\n",
       "      <th>4</th>\n",
       "      <td>-7.253193e-02</td>\n",
       "      <td>1.575877</td>\n",
       "    </tr>\n",
       "    <tr>\n",
       "      <th>5</th>\n",
       "      <td>-2.580518e-02</td>\n",
       "      <td>1.593132</td>\n",
       "    </tr>\n",
       "    <tr>\n",
       "      <th>6</th>\n",
       "      <td>-8.946379e-03</td>\n",
       "      <td>1.599281</td>\n",
       "    </tr>\n",
       "    <tr>\n",
       "      <th>7</th>\n",
       "      <td>-3.072623e-03</td>\n",
       "      <td>1.601414</td>\n",
       "    </tr>\n",
       "    <tr>\n",
       "      <th>8</th>\n",
       "      <td>-1.051835e-03</td>\n",
       "      <td>1.602146</td>\n",
       "    </tr>\n",
       "    <tr>\n",
       "      <th>9</th>\n",
       "      <td>-3.596626e-04</td>\n",
       "      <td>1.602397</td>\n",
       "    </tr>\n",
       "    <tr>\n",
       "      <th>10</th>\n",
       "      <td>-1.229349e-04</td>\n",
       "      <td>1.602483</td>\n",
       "    </tr>\n",
       "    <tr>\n",
       "      <th>11</th>\n",
       "      <td>-4.201436e-05</td>\n",
       "      <td>1.602512</td>\n",
       "    </tr>\n",
       "    <tr>\n",
       "      <th>12</th>\n",
       "      <td>-1.435822e-05</td>\n",
       "      <td>1.602522</td>\n",
       "    </tr>\n",
       "    <tr>\n",
       "      <th>13</th>\n",
       "      <td>-4.906782e-06</td>\n",
       "      <td>1.602526</td>\n",
       "    </tr>\n",
       "    <tr>\n",
       "      <th>14</th>\n",
       "      <td>-1.676836e-06</td>\n",
       "      <td>1.602527</td>\n",
       "    </tr>\n",
       "    <tr>\n",
       "      <th>15</th>\n",
       "      <td>-5.730384e-07</td>\n",
       "      <td>1.602527</td>\n",
       "    </tr>\n",
       "    <tr>\n",
       "      <th>16</th>\n",
       "      <td>-1.958288e-07</td>\n",
       "      <td>1.602527</td>\n",
       "    </tr>\n",
       "    <tr>\n",
       "      <th>17</th>\n",
       "      <td>-6.692205e-08</td>\n",
       "      <td>1.602527</td>\n",
       "    </tr>\n",
       "    <tr>\n",
       "      <th>18</th>\n",
       "      <td>-2.286978e-08</td>\n",
       "      <td>1.602527</td>\n",
       "    </tr>\n",
       "    <tr>\n",
       "      <th>19</th>\n",
       "      <td>-7.815462e-09</td>\n",
       "      <td>1.602527</td>\n",
       "    </tr>\n",
       "    <tr>\n",
       "      <th>20</th>\n",
       "      <td>-2.670836e-09</td>\n",
       "      <td>1.602527</td>\n",
       "    </tr>\n",
       "    <tr>\n",
       "      <th>21</th>\n",
       "      <td>-9.127250e-10</td>\n",
       "      <td>1.602527</td>\n",
       "    </tr>\n",
       "    <tr>\n",
       "      <th>22</th>\n",
       "      <td>-3.119114e-10</td>\n",
       "      <td>1.602527</td>\n",
       "    </tr>\n",
       "    <tr>\n",
       "      <th>23</th>\n",
       "      <td>-1.065921e-10</td>\n",
       "      <td>1.602527</td>\n",
       "    </tr>\n",
       "    <tr>\n",
       "      <th>24</th>\n",
       "      <td>-3.642597e-11</td>\n",
       "      <td>1.602527</td>\n",
       "    </tr>\n",
       "    <tr>\n",
       "      <th>25</th>\n",
       "      <td>-1.244871e-11</td>\n",
       "      <td>1.602527</td>\n",
       "    </tr>\n",
       "    <tr>\n",
       "      <th>26</th>\n",
       "      <td>-4.254375e-12</td>\n",
       "      <td>1.602527</td>\n",
       "    </tr>\n",
       "    <tr>\n",
       "      <th>27</th>\n",
       "      <td>-1.453060e-12</td>\n",
       "      <td>1.602527</td>\n",
       "    </tr>\n",
       "    <tr>\n",
       "      <th>28</th>\n",
       "      <td>-4.964917e-13</td>\n",
       "      <td>1.602527</td>\n",
       "    </tr>\n",
       "    <tr>\n",
       "      <th>29</th>\n",
       "      <td>-1.705303e-13</td>\n",
       "      <td>1.602527</td>\n",
       "    </tr>\n",
       "    <tr>\n",
       "      <th>30</th>\n",
       "      <td>-5.773160e-14</td>\n",
       "      <td>1.602527</td>\n",
       "    </tr>\n",
       "    <tr>\n",
       "      <th>31</th>\n",
       "      <td>-2.131628e-14</td>\n",
       "      <td>1.602527</td>\n",
       "    </tr>\n",
       "    <tr>\n",
       "      <th>32</th>\n",
       "      <td>-6.217249e-15</td>\n",
       "      <td>1.602527</td>\n",
       "    </tr>\n",
       "    <tr>\n",
       "      <th>33</th>\n",
       "      <td>-1.776357e-15</td>\n",
       "      <td>1.602527</td>\n",
       "    </tr>\n",
       "    <tr>\n",
       "      <th>34</th>\n",
       "      <td>-8.881784e-16</td>\n",
       "      <td>1.602527</td>\n",
       "    </tr>\n",
       "    <tr>\n",
       "      <th>35</th>\n",
       "      <td>0.000000e+00</td>\n",
       "      <td>1.602527</td>\n",
       "    </tr>\n",
       "  </tbody>\n",
       "</table>\n",
       "</div>"
      ],
      "text/plain": [
       "    f(xn) for each iteration        xn\n",
       "0              -2.528475e+00  0.250000\n",
       "1              -8.431002e-01  1.239436\n",
       "2              -4.416760e-01  1.427636\n",
       "3              -1.911122e-01  1.530630\n",
       "4              -7.253193e-02  1.575877\n",
       "5              -2.580518e-02  1.593132\n",
       "6              -8.946379e-03  1.599281\n",
       "7              -3.072623e-03  1.601414\n",
       "8              -1.051835e-03  1.602146\n",
       "9              -3.596626e-04  1.602397\n",
       "10             -1.229349e-04  1.602483\n",
       "11             -4.201436e-05  1.602512\n",
       "12             -1.435822e-05  1.602522\n",
       "13             -4.906782e-06  1.602526\n",
       "14             -1.676836e-06  1.602527\n",
       "15             -5.730384e-07  1.602527\n",
       "16             -1.958288e-07  1.602527\n",
       "17             -6.692205e-08  1.602527\n",
       "18             -2.286978e-08  1.602527\n",
       "19             -7.815462e-09  1.602527\n",
       "20             -2.670836e-09  1.602527\n",
       "21             -9.127250e-10  1.602527\n",
       "22             -3.119114e-10  1.602527\n",
       "23             -1.065921e-10  1.602527\n",
       "24             -3.642597e-11  1.602527\n",
       "25             -1.244871e-11  1.602527\n",
       "26             -4.254375e-12  1.602527\n",
       "27             -1.453060e-12  1.602527\n",
       "28             -4.964917e-13  1.602527\n",
       "29             -1.705303e-13  1.602527\n",
       "30             -5.773160e-14  1.602527\n",
       "31             -2.131628e-14  1.602527\n",
       "32             -6.217249e-15  1.602527\n",
       "33             -1.776357e-15  1.602527\n",
       "34             -8.881784e-16  1.602527\n",
       "35              0.000000e+00  1.602527"
      ]
     },
     "execution_count": 32,
     "metadata": {},
     "output_type": "execute_result"
    }
   ],
   "source": [
    "equation2bValues=pd.DataFrame(secant(0.25,0.5,equation2b), columns=[\"f(xn) for each iteration\",\"xn\"])\n",
    "equation2bValues"
   ]
  },
  {
   "cell_type": "markdown",
   "metadata": {},
   "source": [
    "Üç adet kirişi fonksiyon üzerinde görelim:<br>(Köke yaklaştıkça koyulaşıyor)"
   ]
  },
  {
   "cell_type": "code",
   "execution_count": 33,
   "metadata": {},
   "outputs": [
    {
     "data": {
      "text/plain": [
       "Text(0.5, 1.0, 'Function 2 (Secant)')"
      ]
     },
     "execution_count": 33,
     "metadata": {},
     "output_type": "execute_result"
    },
    {
     "data": {
      "image/png": "[encoded data removed]",
      "text/plain": [
       "<Figure size 432x288 with 1 Axes>"
      ]
     },
     "metadata": {
      "needs_background": "dark"
     },
     "output_type": "display_data"
    }
   ],
   "source": [
    "x=np.arange(0,2,0.01)\n",
    "fx=np.e**x-(x-2)**2-3*(x) #fonksiyonu tanımladık\n",
    "secant1=((equation2b(1.239436)-equation2b(0.250000))/(1.239436-0.250000))*(x-1.239436)+equation2b(1.239436) #kirişler\n",
    "secant2=((equation2b(1.530630)-equation2b(1.427636))/(1.530630-1.427636))*(x-1.530630)+equation2b(1.530630)\n",
    "secant3=((equation2b(1.602526)-equation2b(1.602522))/(1.602526-1.602522))*(x-1.602526)+equation2b(1.602526)\n",
    "plt.plot(x,fx) #fonksiyonun grafiği\n",
    "plt.plot(x,secant1, color=\"0.8\")\n",
    "plt.plot(x,secant2, color=\"0.5\")\n",
    "plt.plot(x,secant3, color=\"black\")\n",
    "plt.axvline(x=0, color=\"red\")\n",
    "plt.axhline(y=0, color=\"red\") #koordinat doğruları\n",
    "plt.title(\"Function 2 (Secant)\")"
   ]
  },
  {
   "cell_type": "markdown",
   "metadata": {},
   "source": [
    "##### Üçüncü fonksiyon (equation2c)"
   ]
  },
  {
   "cell_type": "markdown",
   "metadata": {},
   "source": [
    "Başlangıç koşulları 0.25 ve 0.5"
   ]
  },
  {
   "cell_type": "code",
   "execution_count": 34,
   "metadata": {},
   "outputs": [
    {
     "data": {
      "text/html": [
       "<div>\n",
       "<style scoped>\n",
       "    .dataframe tbody tr th:only-of-type {\n",
       "        vertical-align: middle;\n",
       "    }\n",
       "\n",
       "    .dataframe tbody tr th {\n",
       "        vertical-align: top;\n",
       "    }\n",
       "\n",
       "    .dataframe thead th {\n",
       "        text-align: right;\n",
       "    }\n",
       "</style>\n",
       "<table border=\"1\" class=\"dataframe\">\n",
       "  <thead>\n",
       "    <tr style=\"text-align: right;\">\n",
       "      <th></th>\n",
       "      <th>f(xn) for each iteration</th>\n",
       "      <th>xn</th>\n",
       "    </tr>\n",
       "  </thead>\n",
       "  <tbody>\n",
       "    <tr>\n",
       "      <th>0</th>\n",
       "      <td>-1.062500e+00</td>\n",
       "      <td>0.250000</td>\n",
       "    </tr>\n",
       "    <tr>\n",
       "      <th>1</th>\n",
       "      <td>-1.004161e+00</td>\n",
       "      <td>0.266749</td>\n",
       "    </tr>\n",
       "    <tr>\n",
       "      <th>2</th>\n",
       "      <td>-2.443573e-01</td>\n",
       "      <td>0.501882</td>\n",
       "    </tr>\n",
       "    <tr>\n",
       "      <th>3</th>\n",
       "      <td>-5.578833e-02</td>\n",
       "      <td>0.566198</td>\n",
       "    </tr>\n",
       "    <tr>\n",
       "      <th>4</th>\n",
       "      <td>-1.283112e-02</td>\n",
       "      <td>0.581257</td>\n",
       "    </tr>\n",
       "    <tr>\n",
       "      <th>5</th>\n",
       "      <td>-2.958811e-03</td>\n",
       "      <td>0.584741</td>\n",
       "    </tr>\n",
       "    <tr>\n",
       "      <th>6</th>\n",
       "      <td>-6.827317e-04</td>\n",
       "      <td>0.585545</td>\n",
       "    </tr>\n",
       "    <tr>\n",
       "      <th>7</th>\n",
       "      <td>-1.575610e-04</td>\n",
       "      <td>0.585731</td>\n",
       "    </tr>\n",
       "    <tr>\n",
       "      <th>8</th>\n",
       "      <td>-3.636322e-05</td>\n",
       "      <td>0.585774</td>\n",
       "    </tr>\n",
       "    <tr>\n",
       "      <th>9</th>\n",
       "      <td>-8.392274e-06</td>\n",
       "      <td>0.585783</td>\n",
       "    </tr>\n",
       "    <tr>\n",
       "      <th>10</th>\n",
       "      <td>-1.936858e-06</td>\n",
       "      <td>0.585786</td>\n",
       "    </tr>\n",
       "    <tr>\n",
       "      <th>11</th>\n",
       "      <td>-4.470087e-07</td>\n",
       "      <td>0.585786</td>\n",
       "    </tr>\n",
       "    <tr>\n",
       "      <th>12</th>\n",
       "      <td>-1.031654e-07</td>\n",
       "      <td>0.585786</td>\n",
       "    </tr>\n",
       "    <tr>\n",
       "      <th>13</th>\n",
       "      <td>-2.380963e-08</td>\n",
       "      <td>0.585786</td>\n",
       "    </tr>\n",
       "    <tr>\n",
       "      <th>14</th>\n",
       "      <td>-5.495041e-09</td>\n",
       "      <td>0.585786</td>\n",
       "    </tr>\n",
       "    <tr>\n",
       "      <th>15</th>\n",
       "      <td>-1.268204e-09</td>\n",
       "      <td>0.585786</td>\n",
       "    </tr>\n",
       "    <tr>\n",
       "      <th>16</th>\n",
       "      <td>-2.926897e-10</td>\n",
       "      <td>0.585786</td>\n",
       "    </tr>\n",
       "    <tr>\n",
       "      <th>17</th>\n",
       "      <td>-6.754997e-11</td>\n",
       "      <td>0.585786</td>\n",
       "    </tr>\n",
       "    <tr>\n",
       "      <th>18</th>\n",
       "      <td>-1.558997e-11</td>\n",
       "      <td>0.585786</td>\n",
       "    </tr>\n",
       "    <tr>\n",
       "      <th>19</th>\n",
       "      <td>-3.598011e-12</td>\n",
       "      <td>0.585786</td>\n",
       "    </tr>\n",
       "    <tr>\n",
       "      <th>20</th>\n",
       "      <td>-8.302248e-13</td>\n",
       "      <td>0.585786</td>\n",
       "    </tr>\n",
       "    <tr>\n",
       "      <th>21</th>\n",
       "      <td>-1.914024e-13</td>\n",
       "      <td>0.585786</td>\n",
       "    </tr>\n",
       "    <tr>\n",
       "      <th>22</th>\n",
       "      <td>-4.418688e-14</td>\n",
       "      <td>0.585786</td>\n",
       "    </tr>\n",
       "    <tr>\n",
       "      <th>23</th>\n",
       "      <td>-1.021405e-14</td>\n",
       "      <td>0.585786</td>\n",
       "    </tr>\n",
       "    <tr>\n",
       "      <th>24</th>\n",
       "      <td>-2.442491e-15</td>\n",
       "      <td>0.585786</td>\n",
       "    </tr>\n",
       "    <tr>\n",
       "      <th>25</th>\n",
       "      <td>-6.661338e-16</td>\n",
       "      <td>0.585786</td>\n",
       "    </tr>\n",
       "    <tr>\n",
       "      <th>26</th>\n",
       "      <td>0.000000e+00</td>\n",
       "      <td>0.585786</td>\n",
       "    </tr>\n",
       "  </tbody>\n",
       "</table>\n",
       "</div>"
      ],
      "text/plain": [
       "    f(xn) for each iteration        xn\n",
       "0              -1.062500e+00  0.250000\n",
       "1              -1.004161e+00  0.266749\n",
       "2              -2.443573e-01  0.501882\n",
       "3              -5.578833e-02  0.566198\n",
       "4              -1.283112e-02  0.581257\n",
       "5              -2.958811e-03  0.584741\n",
       "6              -6.827317e-04  0.585545\n",
       "7              -1.575610e-04  0.585731\n",
       "8              -3.636322e-05  0.585774\n",
       "9              -8.392274e-06  0.585783\n",
       "10             -1.936858e-06  0.585786\n",
       "11             -4.470087e-07  0.585786\n",
       "12             -1.031654e-07  0.585786\n",
       "13             -2.380963e-08  0.585786\n",
       "14             -5.495041e-09  0.585786\n",
       "15             -1.268204e-09  0.585786\n",
       "16             -2.926897e-10  0.585786\n",
       "17             -6.754997e-11  0.585786\n",
       "18             -1.558997e-11  0.585786\n",
       "19             -3.598011e-12  0.585786\n",
       "20             -8.302248e-13  0.585786\n",
       "21             -1.914024e-13  0.585786\n",
       "22             -4.418688e-14  0.585786\n",
       "23             -1.021405e-14  0.585786\n",
       "24             -2.442491e-15  0.585786\n",
       "25             -6.661338e-16  0.585786\n",
       "26              0.000000e+00  0.585786"
      ]
     },
     "execution_count": 34,
     "metadata": {},
     "output_type": "execute_result"
    }
   ],
   "source": [
    "equation2cValues=pd.DataFrame(secant(0.25,0.5,equation2c), columns=[\"f(xn) for each iteration\",\"xn\"])\n",
    "equation2cValues"
   ]
  },
  {
   "cell_type": "markdown",
   "metadata": {},
   "source": [
    "Üç adet kirişi fonksiyon üzerinde görelim:<br>(Köke yaklaştıkça koyulaşıyor)"
   ]
  },
  {
   "cell_type": "code",
   "execution_count": 35,
   "metadata": {},
   "outputs": [
    {
     "data": {
      "text/plain": [
       "Text(0.5, 1.0, 'Function 3 (Secant)')"
      ]
     },
     "execution_count": 35,
     "metadata": {},
     "output_type": "execute_result"
    },
    {
     "data": {
      "image/png": "[encoded data removed]",
      "text/plain": [
       "<Figure size 432x288 with 1 Axes>"
      ]
     },
     "metadata": {
      "needs_background": "dark"
     },
     "output_type": "display_data"
    }
   ],
   "source": [
    "x=np.arange(0,2,0.01)\n",
    "fx=-(x**2)+4*x-2 #fonksiyonu tanımladık\n",
    "secant1=((equation2c(0.266749)-equation2c(0.250000))/(0.266749-0.250000))*(x-0.266749)+equation2c(0.266749) #kirişler\n",
    "secant2=((equation2c(0.566198)-equation2c(0.501882))/(0.566198-0.501882))*(x-0.566198)+equation2c(0.566198)\n",
    "secant3=((equation2c(0.585783)-equation2c(0.585774))/(0.585783-0.585774))*(x-0.585783)+equation2c(0.585783)\n",
    "plt.plot(x,fx) #fonksiyonun grafiği\n",
    "plt.plot(x,secant1, color=\"0.8\")\n",
    "plt.plot(x,secant2, color=\"0.5\")\n",
    "plt.plot(x,secant3, color=\"black\")\n",
    "plt.axvline(x=0, color=\"red\")\n",
    "plt.axhline(y=0, color=\"red\") #koordinat doğruları\n",
    "plt.title(\"Function 3 (Secant)\")"
   ]
  },
  {
   "cell_type": "markdown",
   "metadata": {},
   "source": [
    "#### Müller Yöntemi:"
   ]
  },
  {
   "cell_type": "markdown",
   "metadata": {},
   "source": [
    "Secant yöntemi için __muller__ adında bir fonksiyon tanımlıyoruz.<br>Fonksiyonun dört adet parametresi var: \n",
    "\n",
    "(1) İlk başlangıç koşulu: point0<br>(2) İkinci başlangıç koşulu: point1<br>(3) Üçüncü başlangıç koşulu: point2<br>(4) Eğri: equation  \n",
    "\n",
    "Fonksiyon parametreleri aldıktan sonra döngünün içine herhangi bir parametre sokmamak için parametreleri p0, p1... şeklinde yeniden tanımlıyor.<br>Ardından<br>\n",
    "$$x_{i+1}=x_{i}-\\frac{2c}{b\\pm\\sqrt{b^{2}-4ac}}$$\n",
    "<br>denkleminden yola çıkarak a, b, c ve p3'ü hesaplıyor. (xi+1'i bu şekilde tanımladık)<br>Döngü koşulumuz sağlanana kadar bulduğumuz yeni değerleri eskisinin yerine yazarak yeni paraboller oluşturmaya devam ediyoruz. (p0 yerine p1, p1 yerine p2... şeklinde)<br>"
   ]
  },
  {
   "cell_type": "code",
   "execution_count": 36,
   "metadata": {},
   "outputs": [],
   "source": [
    "def muller(point0,point1,point2,equation):\n",
    "    p0 = point0\n",
    "    p1 = point1\n",
    "    p2 = point2\n",
    "    f0 = equation(point0)\n",
    "    f1 = equation(point1)\n",
    "    f2 = equation(point2) #parametreleri değişken olarak tekrar tanımladık\n",
    "    c = f2\n",
    "    b = ((p0-p2)**2 *(f1-f2)-(p1-p2)**2 *(f0-f2))/((p0-p2)*(p1-p2)*(p0-p1))\n",
    "    a = ((p1-p1)*(f0-f2) - (p0-p2)*(f1-f2))/((p0-p2)*(p1-p2)*(p0-p1))\n",
    "    p3 = p2 - 2*c/(b+(b/np.absolute(b))*np.sqrt(b**2 -4*a*c)) #a b ve c yi hesapladık\n",
    "    yield equation(p2),p2,p1,p0\n",
    "    while np.absolute(equation(p3))!=0:\n",
    "        c = f2\n",
    "        b = ((p0-p2)**2 *(f1-f2)-(p1-p2)**2 *(f0-f2))/((p0-p2)*(p1-p2)*(p0-p1))\n",
    "        a = ((p1-p1)*(f0-f2) - (p0-p2)*(f1-f2))/((p0-p2)*(p1-p2)*(p0-p1))\n",
    "        p3 = p2 - 2*c/(b+(b/np.absolute(b))*np.sqrt(b**2 -4*a*c))\n",
    "        yield equation(p3),p3,p2,p1\n",
    "        p0 = p1\n",
    "        p1 = p2\n",
    "        p2 = p3\n",
    "        f0 = equation(p0)\n",
    "        f1 = equation(p1)\n",
    "        f2 = equation(p2)\n",
    "        "
   ]
  },
  {
   "cell_type": "markdown",
   "metadata": {},
   "source": [
    "##### İlk fonksiyon (equation2a)"
   ]
  },
  {
   "cell_type": "markdown",
   "metadata": {},
   "source": [
    "Başlangıç koşulları 0.1, 0.25 ve 0.5"
   ]
  },
  {
   "cell_type": "code",
   "execution_count": 37,
   "metadata": {
    "scrolled": false
   },
   "outputs": [
    {
     "data": {
      "text/html": [
       "<div>\n",
       "<style scoped>\n",
       "    .dataframe tbody tr th:only-of-type {\n",
       "        vertical-align: middle;\n",
       "    }\n",
       "\n",
       "    .dataframe tbody tr th {\n",
       "        vertical-align: top;\n",
       "    }\n",
       "\n",
       "    .dataframe thead th {\n",
       "        text-align: right;\n",
       "    }\n",
       "</style>\n",
       "<table border=\"1\" class=\"dataframe\">\n",
       "  <thead>\n",
       "    <tr style=\"text-align: right;\">\n",
       "      <th></th>\n",
       "      <th>f(xi+1) for each iteration</th>\n",
       "      <th>xi</th>\n",
       "      <th>xi-1</th>\n",
       "      <th>xi-2</th>\n",
       "    </tr>\n",
       "  </thead>\n",
       "  <tbody>\n",
       "    <tr>\n",
       "      <th>0</th>\n",
       "      <td>-7.867339e-01</td>\n",
       "      <td>0.500000</td>\n",
       "      <td>0.250000</td>\n",
       "      <td>0.100000</td>\n",
       "    </tr>\n",
       "    <tr>\n",
       "      <th>1</th>\n",
       "      <td>-1.336734e-01</td>\n",
       "      <td>0.919753</td>\n",
       "      <td>0.500000</td>\n",
       "      <td>0.250000</td>\n",
       "    </tr>\n",
       "    <tr>\n",
       "      <th>2</th>\n",
       "      <td>5.404876e-03</td>\n",
       "      <td>0.971580</td>\n",
       "      <td>0.919753</td>\n",
       "      <td>0.500000</td>\n",
       "    </tr>\n",
       "    <tr>\n",
       "      <th>3</th>\n",
       "      <td>-6.027391e-05</td>\n",
       "      <td>0.969646</td>\n",
       "      <td>0.971580</td>\n",
       "      <td>0.919753</td>\n",
       "    </tr>\n",
       "    <tr>\n",
       "      <th>4</th>\n",
       "      <td>-2.561270e-08</td>\n",
       "      <td>0.969667</td>\n",
       "      <td>0.969646</td>\n",
       "      <td>0.971580</td>\n",
       "    </tr>\n",
       "    <tr>\n",
       "      <th>5</th>\n",
       "      <td>1.200151e-13</td>\n",
       "      <td>0.969667</td>\n",
       "      <td>0.969667</td>\n",
       "      <td>0.969646</td>\n",
       "    </tr>\n",
       "    <tr>\n",
       "      <th>6</th>\n",
       "      <td>0.000000e+00</td>\n",
       "      <td>0.969667</td>\n",
       "      <td>0.969667</td>\n",
       "      <td>0.969667</td>\n",
       "    </tr>\n",
       "  </tbody>\n",
       "</table>\n",
       "</div>"
      ],
      "text/plain": [
       "   f(xi+1) for each iteration        xi      xi-1      xi-2\n",
       "0               -7.867339e-01  0.500000  0.250000  0.100000\n",
       "1               -1.336734e-01  0.919753  0.500000  0.250000\n",
       "2                5.404876e-03  0.971580  0.919753  0.500000\n",
       "3               -6.027391e-05  0.969646  0.971580  0.919753\n",
       "4               -2.561270e-08  0.969667  0.969646  0.971580\n",
       "5                1.200151e-13  0.969667  0.969667  0.969646\n",
       "6                0.000000e+00  0.969667  0.969667  0.969667"
      ]
     },
     "execution_count": 37,
     "metadata": {},
     "output_type": "execute_result"
    }
   ],
   "source": [
    "equation2aValuesMuller=pd.DataFrame(list(muller(0.1,0.25,0.5,equation2a)), columns=[\"f(xi+1) for each iteration\",\"xi\",\"xi-1\",\"xi-2\"])\n",
    "equation2aValuesMuller"
   ]
  },
  {
   "cell_type": "markdown",
   "metadata": {},
   "source": [
    "##### İkinci fonksiyon (equation2b)"
   ]
  },
  {
   "cell_type": "markdown",
   "metadata": {},
   "source": [
    "Başlangıç koşulları 0.1, 0.25 ve 0.5"
   ]
  },
  {
   "cell_type": "code",
   "execution_count": 38,
   "metadata": {
    "scrolled": true
   },
   "outputs": [
    {
     "data": {
      "text/html": [
       "<div>\n",
       "<style scoped>\n",
       "    .dataframe tbody tr th:only-of-type {\n",
       "        vertical-align: middle;\n",
       "    }\n",
       "\n",
       "    .dataframe tbody tr th {\n",
       "        vertical-align: top;\n",
       "    }\n",
       "\n",
       "    .dataframe thead th {\n",
       "        text-align: right;\n",
       "    }\n",
       "</style>\n",
       "<table border=\"1\" class=\"dataframe\">\n",
       "  <thead>\n",
       "    <tr style=\"text-align: right;\">\n",
       "      <th></th>\n",
       "      <th>f(xi+1) for each iteration</th>\n",
       "      <th>xi</th>\n",
       "      <th>xi-1</th>\n",
       "      <th>xi-2</th>\n",
       "    </tr>\n",
       "  </thead>\n",
       "  <tbody>\n",
       "    <tr>\n",
       "      <th>0</th>\n",
       "      <td>-2.101279e+00</td>\n",
       "      <td>0.500000</td>\n",
       "      <td>0.250000</td>\n",
       "      <td>0.100000</td>\n",
       "    </tr>\n",
       "    <tr>\n",
       "      <th>1</th>\n",
       "      <td>-1.509815e+00</td>\n",
       "      <td>0.864029</td>\n",
       "      <td>0.500000</td>\n",
       "      <td>0.250000</td>\n",
       "    </tr>\n",
       "    <tr>\n",
       "      <th>2</th>\n",
       "      <td>-8.422900e-01</td>\n",
       "      <td>1.239846</td>\n",
       "      <td>0.864029</td>\n",
       "      <td>0.500000</td>\n",
       "    </tr>\n",
       "    <tr>\n",
       "      <th>3</th>\n",
       "      <td>-2.514475e-01</td>\n",
       "      <td>1.506772</td>\n",
       "      <td>1.239846</td>\n",
       "      <td>0.864029</td>\n",
       "    </tr>\n",
       "    <tr>\n",
       "      <th>4</th>\n",
       "      <td>-2.526283e-02</td>\n",
       "      <td>1.593331</td>\n",
       "      <td>1.506772</td>\n",
       "      <td>1.239846</td>\n",
       "    </tr>\n",
       "    <tr>\n",
       "      <th>5</th>\n",
       "      <td>-4.745404e-04</td>\n",
       "      <td>1.602356</td>\n",
       "      <td>1.593331</td>\n",
       "      <td>1.506772</td>\n",
       "    </tr>\n",
       "    <tr>\n",
       "      <th>6</th>\n",
       "      <td>-7.717875e-07</td>\n",
       "      <td>1.602527</td>\n",
       "      <td>1.602356</td>\n",
       "      <td>1.593331</td>\n",
       "    </tr>\n",
       "    <tr>\n",
       "      <th>7</th>\n",
       "      <td>-2.342482e-11</td>\n",
       "      <td>1.602527</td>\n",
       "      <td>1.602527</td>\n",
       "      <td>1.602356</td>\n",
       "    </tr>\n",
       "    <tr>\n",
       "      <th>8</th>\n",
       "      <td>0.000000e+00</td>\n",
       "      <td>1.602527</td>\n",
       "      <td>1.602527</td>\n",
       "      <td>1.602527</td>\n",
       "    </tr>\n",
       "  </tbody>\n",
       "</table>\n",
       "</div>"
      ],
      "text/plain": [
       "   f(xi+1) for each iteration        xi      xi-1      xi-2\n",
       "0               -2.101279e+00  0.500000  0.250000  0.100000\n",
       "1               -1.509815e+00  0.864029  0.500000  0.250000\n",
       "2               -8.422900e-01  1.239846  0.864029  0.500000\n",
       "3               -2.514475e-01  1.506772  1.239846  0.864029\n",
       "4               -2.526283e-02  1.593331  1.506772  1.239846\n",
       "5               -4.745404e-04  1.602356  1.593331  1.506772\n",
       "6               -7.717875e-07  1.602527  1.602356  1.593331\n",
       "7               -2.342482e-11  1.602527  1.602527  1.602356\n",
       "8                0.000000e+00  1.602527  1.602527  1.602527"
      ]
     },
     "execution_count": 38,
     "metadata": {},
     "output_type": "execute_result"
    }
   ],
   "source": [
    "equation2bValuesMuller=pd.DataFrame(list(muller(0.1,0.25,0.5,equation2b)), columns=[\"f(xi+1) for each iteration\",\"xi\",\"xi-1\",\"xi-2\"])\n",
    "equation2bValuesMuller"
   ]
  },
  {
   "cell_type": "markdown",
   "metadata": {},
   "source": [
    "##### Üçüncü fonksiyon (equation2c)"
   ]
  },
  {
   "cell_type": "markdown",
   "metadata": {},
   "source": [
    "Başlangıç koşulları 0.1, 0.25 ve 0.5"
   ]
  },
  {
   "cell_type": "code",
   "execution_count": 39,
   "metadata": {
    "scrolled": true
   },
   "outputs": [
    {
     "data": {
      "text/html": [
       "<div>\n",
       "<style scoped>\n",
       "    .dataframe tbody tr th:only-of-type {\n",
       "        vertical-align: middle;\n",
       "    }\n",
       "\n",
       "    .dataframe tbody tr th {\n",
       "        vertical-align: top;\n",
       "    }\n",
       "\n",
       "    .dataframe thead th {\n",
       "        text-align: right;\n",
       "    }\n",
       "</style>\n",
       "<table border=\"1\" class=\"dataframe\">\n",
       "  <thead>\n",
       "    <tr style=\"text-align: right;\">\n",
       "      <th></th>\n",
       "      <th>f(xi+1) for each iteration</th>\n",
       "      <th>xi</th>\n",
       "      <th>xi-1</th>\n",
       "      <th>xi-2</th>\n",
       "    </tr>\n",
       "  </thead>\n",
       "  <tbody>\n",
       "    <tr>\n",
       "      <th>0</th>\n",
       "      <td>-2.500000e-01</td>\n",
       "      <td>0.500000</td>\n",
       "      <td>0.250000</td>\n",
       "      <td>0.100000</td>\n",
       "    </tr>\n",
       "    <tr>\n",
       "      <th>1</th>\n",
       "      <td>-7.773934e-02</td>\n",
       "      <td>0.558563</td>\n",
       "      <td>0.500000</td>\n",
       "      <td>0.250000</td>\n",
       "    </tr>\n",
       "    <tr>\n",
       "      <th>2</th>\n",
       "      <td>-7.671061e-03</td>\n",
       "      <td>0.583077</td>\n",
       "      <td>0.558563</td>\n",
       "      <td>0.500000</td>\n",
       "    </tr>\n",
       "    <tr>\n",
       "      <th>3</th>\n",
       "      <td>-3.344501e-04</td>\n",
       "      <td>0.585668</td>\n",
       "      <td>0.583077</td>\n",
       "      <td>0.558563</td>\n",
       "    </tr>\n",
       "    <tr>\n",
       "      <th>4</th>\n",
       "      <td>-1.613078e-06</td>\n",
       "      <td>0.585786</td>\n",
       "      <td>0.585668</td>\n",
       "      <td>0.583077</td>\n",
       "    </tr>\n",
       "    <tr>\n",
       "      <th>5</th>\n",
       "      <td>-3.552003e-10</td>\n",
       "      <td>0.585786</td>\n",
       "      <td>0.585786</td>\n",
       "      <td>0.585668</td>\n",
       "    </tr>\n",
       "    <tr>\n",
       "      <th>6</th>\n",
       "      <td>-6.661338e-16</td>\n",
       "      <td>0.585786</td>\n",
       "      <td>0.585786</td>\n",
       "      <td>0.585786</td>\n",
       "    </tr>\n",
       "    <tr>\n",
       "      <th>7</th>\n",
       "      <td>0.000000e+00</td>\n",
       "      <td>0.585786</td>\n",
       "      <td>0.585786</td>\n",
       "      <td>0.585786</td>\n",
       "    </tr>\n",
       "  </tbody>\n",
       "</table>\n",
       "</div>"
      ],
      "text/plain": [
       "   f(xi+1) for each iteration        xi      xi-1      xi-2\n",
       "0               -2.500000e-01  0.500000  0.250000  0.100000\n",
       "1               -7.773934e-02  0.558563  0.500000  0.250000\n",
       "2               -7.671061e-03  0.583077  0.558563  0.500000\n",
       "3               -3.344501e-04  0.585668  0.583077  0.558563\n",
       "4               -1.613078e-06  0.585786  0.585668  0.583077\n",
       "5               -3.552003e-10  0.585786  0.585786  0.585668\n",
       "6               -6.661338e-16  0.585786  0.585786  0.585786\n",
       "7                0.000000e+00  0.585786  0.585786  0.585786"
      ]
     },
     "execution_count": 39,
     "metadata": {},
     "output_type": "execute_result"
    }
   ],
   "source": [
    "equation2cValuesMuller=pd.DataFrame(list(muller(0.1,0.25,0.5,equation2c)), columns=[\"f(xi+1) for each iteration\",\"xi\",\"xi-1\",\"xi-2\"])\n",
    "equation2cValuesMuller"
   ]
  },
  {
   "cell_type": "markdown",
   "metadata": {},
   "source": [
    "### Grafik Üzerinde Analiz"
   ]
  },
  {
   "cell_type": "markdown",
   "metadata": {},
   "source": [
    "İlk 3 parabolü grafik üzerinde görelim."
   ]
  },
  {
   "cell_type": "markdown",
   "metadata": {},
   "source": [
    "Parabollerin değişimini görmek için işimizi kolaylaştıracak bir fonksiyon yazalım.<br>\n",
    "__parabolaFromPoint__ fonksiyonunun 6 adet parametresi var. Sırasıyla noktaların x ve y koordinatlarını alıyor.<br>\n",
    "Ardından x koordinatlarını katsayılar matrisine atayarak denklemi çözüyor. Çıktı olarak a, b ve c noktalarını veriyor."
   ]
  },
  {
   "cell_type": "code",
   "execution_count": 40,
   "metadata": {},
   "outputs": [],
   "source": [
    "def parabolaFromPoint(point1x,point1y,point2x,point2y,point3x,point3y):\n",
    "    coefficent=np.ones((3,3))\n",
    "    coefficent[0][0]=point1x**2\n",
    "    coefficent[0][1]=point1x\n",
    "    coefficent[1][0]=point2x**2\n",
    "    coefficent[1][1]=point2x\n",
    "    coefficent[2][0]=point3x**2\n",
    "    coefficent[2][1]=point3x\n",
    "    ordinate=np.array([point1y,point2y,point3y])\n",
    "    constants=np.linalg.solve(coefficent,ordinate)\n",
    "    return constants"
   ]
  },
  {
   "cell_type": "markdown",
   "metadata": {},
   "source": [
    "(1,5), (2,8) ve (12,7) noktalarında deneyelim:"
   ]
  },
  {
   "cell_type": "code",
   "execution_count": 41,
   "metadata": {},
   "outputs": [
    {
     "data": {
      "text/plain": [
       "array([-0.28181818,  3.84545455,  1.43636364])"
      ]
     },
     "execution_count": 41,
     "metadata": {},
     "output_type": "execute_result"
    }
   ],
   "source": [
    "parabolaFromPoint(1,5,2,8,12,7)"
   ]
  },
  {
   "cell_type": "markdown",
   "metadata": {},
   "source": [
    "Buna göre ikinci dereceden polinomumuz:$$-0.28x^{2}+3.84x+1.43$$\n"
   ]
  },
  {
   "cell_type": "markdown",
   "metadata": {},
   "source": [
    "Şimdi fonksiyonlarımızın üzerinde görelim."
   ]
  },
  {
   "cell_type": "markdown",
   "metadata": {},
   "source": [
    "##### Birinci fonksiyon (equation2a)"
   ]
  },
  {
   "cell_type": "code",
   "execution_count": 42,
   "metadata": {},
   "outputs": [
    {
     "data": {
      "text/plain": [
       "Text(0.5, 1.0, 'Function 1 (Muller)')"
      ]
     },
     "execution_count": 42,
     "metadata": {},
     "output_type": "execute_result"
    },
    {
     "data": {
      "image/png": "[encoded data removed]",
      "text/plain": [
       "<Figure size 432x288 with 1 Axes>"
      ]
     },
     "metadata": {
      "needs_background": "dark"
     },
     "output_type": "display_data"
    }
   ],
   "source": [
    "x=np.arange(0,2,0.01)\n",
    "fx=x**3+np.cos(np.e) #fonksiyonu tanımladık\n",
    "parabola1points=parabolaFromPoint(0.1,equation2a(0.1),0.25,equation2a(0.25),0.5,equation2a(0.5))\n",
    "parabola1=(parabola1points[0])*x*x+(parabola1points[1])*x+(parabola1points[2])\n",
    "parabola2points=parabolaFromPoint(0.25,equation2a(0.25),0.5,equation2a(0.5),0.919753,equation2a(0.919753))\n",
    "parabola2=(parabola2points[0])*x*x+(parabola2points[1])*x+(parabola2points[2])\n",
    "parabola3points=parabolaFromPoint(0.5,equation2a(0.5),0.919753,equation2a(0.919753),0.971580,equation2a(0.971580))\n",
    "parabola3=(parabola3points[0])*x*x+(parabola3points[1])*x+(parabola3points[2]) #bulduğumuz noktaları yerine yazdık\n",
    "plt.plot(x,fx) #fonksiyonun grafiği\n",
    "plt.plot(x,parabola1, color=\"0.5\")\n",
    "plt.plot(x,parabola2, color=\"0.25\")\n",
    "plt.plot(x,parabola3, color=\"black\")\n",
    "plt.axvline(x=0, color=\"red\")\n",
    "plt.axhline(y=0, color=\"red\") #koordinat doğruları\n",
    "plt.title(\"Function 1 (Muller)\")"
   ]
  },
  {
   "cell_type": "markdown",
   "metadata": {},
   "source": [
    "##### İkinci fonksiyon (equation2b)"
   ]
  },
  {
   "cell_type": "code",
   "execution_count": 43,
   "metadata": {
    "scrolled": true
   },
   "outputs": [
    {
     "data": {
      "text/plain": [
       "Text(0.5, 1.0, 'Function 2 (Muller)')"
      ]
     },
     "execution_count": 43,
     "metadata": {},
     "output_type": "execute_result"
    },
    {
     "data": {
      "image/png": "[encoded data removed]",
      "text/plain": [
       "<Figure size 432x288 with 1 Axes>"
      ]
     },
     "metadata": {
      "needs_background": "dark"
     },
     "output_type": "display_data"
    }
   ],
   "source": [
    "x=np.arange(0,2,0.01)\n",
    "fx=np.e**x-(x-2)**2-3*(x) #fonksiyonu tanımladık\n",
    "parabola1points=parabolaFromPoint(0.1,equation2b(0.1),0.25,equation2b(0.25),0.5,equation2b(0.5))\n",
    "parabola1=(parabola1points[0])*x*x+(parabola1points[1])*x+(parabola1points[2])\n",
    "parabola2points=parabolaFromPoint(0.25,equation2b(0.25),0.5,equation2b(0.5),0.864029,equation2b(0.864029))\n",
    "parabola2=(parabola2points[0])*x*x+(parabola2points[1])*x+(parabola2points[2])\n",
    "parabola3points=parabolaFromPoint(0.5,equation2b(0.5),0.864029,equation2b(0.864029),1.239846,equation2b(1.239846))\n",
    "parabola3=(parabola3points[0])*x*x+(parabola3points[1])*x+(parabola3points[2]) #bulduğumuz noktaları yerine yazdık\n",
    "plt.plot(x,fx) #fonksiyonun grafiği\n",
    "plt.plot(x,parabola1, color=\"0.5\")\n",
    "plt.plot(x,parabola2, color=\"0.25\")\n",
    "plt.plot(x,parabola3, color=\"black\")\n",
    "plt.axvline(x=0, color=\"red\")\n",
    "plt.axhline(y=0, color=\"red\") #koordinat doğruları\n",
    "plt.title(\"Function 2 (Muller)\")"
   ]
  },
  {
   "cell_type": "markdown",
   "metadata": {},
   "source": [
    "##### Üçüncü fonksiyon (equation2c)"
   ]
  },
  {
   "cell_type": "code",
   "execution_count": 44,
   "metadata": {
    "scrolled": true
   },
   "outputs": [
    {
     "data": {
      "text/plain": [
       "Text(0.5, 1.0, 'Function 3 (Muller)')"
      ]
     },
     "execution_count": 44,
     "metadata": {},
     "output_type": "execute_result"
    },
    {
     "data": {
      "image/png": "[encoded data removed]",
      "text/plain": [
       "<Figure size 432x288 with 1 Axes>"
      ]
     },
     "metadata": {
      "needs_background": "dark"
     },
     "output_type": "display_data"
    }
   ],
   "source": [
    "x=np.arange(0,2,0.01)\n",
    "fx=-(x**2)+4*x-2 #fonksiyonu tanımladık\n",
    "parabola1points=parabolaFromPoint(0.1,equation2c(0.1),0.25,equation2c(0.25),0.5,equation2c(0.5))\n",
    "parabola1=(parabola1points[0])*x*x+(parabola1points[1])*x+(parabola1points[2])\n",
    "parabola2points=parabolaFromPoint(0.25,equation2c(0.25),0.5,equation2c(0.5),0.558563,equation2c(0.558563))\n",
    "parabola2=(parabola2points[0])*x*x+(parabola2points[1])*x+(parabola2points[2])\n",
    "parabola3points=parabolaFromPoint(0.5,equation2c(0.5),0.558563,equation2c(0.558563),0.583077,equation2c(0.583077))\n",
    "parabola3=(parabola3points[0])*x*x+(parabola3points[1])*x+(parabola3points[2]) #bulduğumuz noktaları yerine yazdık\n",
    "plt.plot(x,fx) #fonksiyonun grafiği\n",
    "plt.plot(x,parabola1, color=\"0.5\")\n",
    "plt.plot(x,parabola2, color=\"0.25\")\n",
    "plt.plot(x,parabola3, color=\"black\")\n",
    "plt.axvline(x=0, color=\"red\")\n",
    "plt.axhline(y=0, color=\"red\") #koordinat doğruları\n",
    "plt.title(\"Function 3 (Muller)\")"
   ]
  },
  {
   "cell_type": "markdown",
   "metadata": {},
   "source": [
    "Fonksiyonun kendisi de bir parabol olduğu için paraboller ayırt edilemez biçimde."
   ]
  },
  {
   "cell_type": "markdown",
   "metadata": {},
   "source": [
    "### 2.c. Yakınsaklık Hızları, İterasyon Sayıları ve CPU Zamanları"
   ]
  },
  {
   "cell_type": "markdown",
   "metadata": {},
   "source": [
    "$$\\left|\\varepsilon_{n+1}\\right|\\le c\\left|\\varepsilon_{n}\\right|^{p}$$<br> formülünden p değerlerini alırsak:"
   ]
  },
  {
   "cell_type": "code",
   "execution_count": 45,
   "metadata": {},
   "outputs": [
    {
     "data": {
      "text/html": [
       "<div>\n",
       "<style scoped>\n",
       "    .dataframe tbody tr th:only-of-type {\n",
       "        vertical-align: middle;\n",
       "    }\n",
       "\n",
       "    .dataframe tbody tr th {\n",
       "        vertical-align: top;\n",
       "    }\n",
       "\n",
       "    .dataframe thead th {\n",
       "        text-align: right;\n",
       "    }\n",
       "</style>\n",
       "<table border=\"1\" class=\"dataframe\">\n",
       "  <thead>\n",
       "    <tr style=\"text-align: right;\">\n",
       "      <th></th>\n",
       "      <th>Convergence Speed</th>\n",
       "    </tr>\n",
       "  </thead>\n",
       "  <tbody>\n",
       "    <tr>\n",
       "      <th>Secant</th>\n",
       "      <td>1.618</td>\n",
       "    </tr>\n",
       "    <tr>\n",
       "      <th>Muller</th>\n",
       "      <td>1.839</td>\n",
       "    </tr>\n",
       "  </tbody>\n",
       "</table>\n",
       "</div>"
      ],
      "text/plain": [
       "        Convergence Speed\n",
       "Secant              1.618\n",
       "Muller              1.839"
      ]
     },
     "execution_count": 45,
     "metadata": {},
     "output_type": "execute_result"
    }
   ],
   "source": [
    "convergenceTable=pd.DataFrame({\"Convergence Speed\":[1.618,1.839]}, index=[\"Secant\",\"Muller\"])\n",
    "convergenceTable"
   ]
  },
  {
   "cell_type": "markdown",
   "metadata": {},
   "source": [
    "İterasyon sayıları için yukarıdaki tabloları kullanabiliriz:"
   ]
  },
  {
   "cell_type": "code",
   "execution_count": 46,
   "metadata": {
    "scrolled": true
   },
   "outputs": [
    {
     "data": {
      "text/html": [
       "<div>\n",
       "<style scoped>\n",
       "    .dataframe tbody tr th:only-of-type {\n",
       "        vertical-align: middle;\n",
       "    }\n",
       "\n",
       "    .dataframe tbody tr th {\n",
       "        vertical-align: top;\n",
       "    }\n",
       "\n",
       "    .dataframe thead th {\n",
       "        text-align: right;\n",
       "    }\n",
       "</style>\n",
       "<table border=\"1\" class=\"dataframe\">\n",
       "  <thead>\n",
       "    <tr style=\"text-align: right;\">\n",
       "      <th></th>\n",
       "      <th>Function 1</th>\n",
       "      <th>Function 2</th>\n",
       "      <th>Function 3</th>\n",
       "    </tr>\n",
       "  </thead>\n",
       "  <tbody>\n",
       "    <tr>\n",
       "      <th>Secant</th>\n",
       "      <td>41</td>\n",
       "      <td>35</td>\n",
       "      <td>26</td>\n",
       "    </tr>\n",
       "    <tr>\n",
       "      <th>Muller</th>\n",
       "      <td>6</td>\n",
       "      <td>8</td>\n",
       "      <td>7</td>\n",
       "    </tr>\n",
       "  </tbody>\n",
       "</table>\n",
       "</div>"
      ],
      "text/plain": [
       "        Function 1  Function 2  Function 3\n",
       "Secant          41          35          26\n",
       "Muller           6           8           7"
      ]
     },
     "execution_count": 46,
     "metadata": {},
     "output_type": "execute_result"
    }
   ],
   "source": [
    "iterationTable=pd.DataFrame({\"Function 1\":[41,6],\"Function 2\":[35,8],\"Function 3\": [26,7]}, index=[\"Secant\",\"Muller\"])\n",
    "iterationTable"
   ]
  },
  {
   "cell_type": "markdown",
   "metadata": {},
   "source": [
    "#### CPU Zamanları"
   ]
  },
  {
   "cell_type": "markdown",
   "metadata": {},
   "source": [
    "CPU zamanlarını hesaplamak için fonksiyonlarımızı 10 milyon kere çalıştırıp ortalama çalışma sürelerini bulalım."
   ]
  },
  {
   "cell_type": "markdown",
   "metadata": {},
   "source": [
    "##### Secant"
   ]
  },
  {
   "cell_type": "code",
   "execution_count": 47,
   "metadata": {
    "scrolled": true
   },
   "outputs": [
    {
     "name": "stdout",
     "output_type": "stream",
     "text": [
      "340 ns ± 31.8 ns per loop (mean ± std. dev. of 7 runs, 10000000 loops each)\n"
     ]
    }
   ],
   "source": [
    "%%timeit -n 10000000\n",
    "secant(0.25,0.5,equation2a)"
   ]
  },
  {
   "cell_type": "code",
   "execution_count": 48,
   "metadata": {},
   "outputs": [
    {
     "name": "stdout",
     "output_type": "stream",
     "text": [
      "338 ns ± 33.2 ns per loop (mean ± std. dev. of 7 runs, 10000000 loops each)\n"
     ]
    }
   ],
   "source": [
    "%%timeit -n 10000000\n",
    "secant(0.25,0.5,equation2b)"
   ]
  },
  {
   "cell_type": "code",
   "execution_count": 49,
   "metadata": {},
   "outputs": [
    {
     "name": "stdout",
     "output_type": "stream",
     "text": [
      "339 ns ± 20.9 ns per loop (mean ± std. dev. of 7 runs, 10000000 loops each)\n"
     ]
    }
   ],
   "source": [
    "%%timeit -n 10000000\n",
    "secant(0.25,0.5,equation2c)"
   ]
  },
  {
   "cell_type": "markdown",
   "metadata": {},
   "source": [
    "##### Müller"
   ]
  },
  {
   "cell_type": "code",
   "execution_count": 50,
   "metadata": {},
   "outputs": [
    {
     "name": "stdout",
     "output_type": "stream",
     "text": [
      "371 ns ± 36.1 ns per loop (mean ± std. dev. of 7 runs, 10000000 loops each)\n"
     ]
    }
   ],
   "source": [
    "%%timeit -n 10000000\n",
    "muller(0.1,0.25,0.5,equation2a)"
   ]
  },
  {
   "cell_type": "code",
   "execution_count": 51,
   "metadata": {},
   "outputs": [
    {
     "name": "stdout",
     "output_type": "stream",
     "text": [
      "391 ns ± 35.5 ns per loop (mean ± std. dev. of 7 runs, 10000000 loops each)\n"
     ]
    }
   ],
   "source": [
    "%%timeit -n 10000000\n",
    "muller(0.1,0.25,0.5,equation2b)"
   ]
  },
  {
   "cell_type": "code",
   "execution_count": 52,
   "metadata": {},
   "outputs": [
    {
     "name": "stdout",
     "output_type": "stream",
     "text": [
      "364 ns ± 21.7 ns per loop (mean ± std. dev. of 7 runs, 10000000 loops each)\n"
     ]
    }
   ],
   "source": [
    "%%timeit -n 10000000\n",
    "muller(0.1,0.25,0.5,equation2c)"
   ]
  },
  {
   "cell_type": "markdown",
   "metadata": {},
   "source": [
    "Tabloda görelim:"
   ]
  },
  {
   "cell_type": "code",
   "execution_count": 53,
   "metadata": {},
   "outputs": [
    {
     "data": {
      "text/html": [
       "<div>\n",
       "<style scoped>\n",
       "    .dataframe tbody tr th:only-of-type {\n",
       "        vertical-align: middle;\n",
       "    }\n",
       "\n",
       "    .dataframe tbody tr th {\n",
       "        vertical-align: top;\n",
       "    }\n",
       "\n",
       "    .dataframe thead th {\n",
       "        text-align: right;\n",
       "    }\n",
       "</style>\n",
       "<table border=\"1\" class=\"dataframe\">\n",
       "  <thead>\n",
       "    <tr style=\"text-align: right;\">\n",
       "      <th></th>\n",
       "      <th>Function 1</th>\n",
       "      <th>Function 2</th>\n",
       "      <th>Function 3</th>\n",
       "    </tr>\n",
       "  </thead>\n",
       "  <tbody>\n",
       "    <tr>\n",
       "      <th>Secant</th>\n",
       "      <td>276</td>\n",
       "      <td>276</td>\n",
       "      <td>283</td>\n",
       "    </tr>\n",
       "    <tr>\n",
       "      <th>Muller</th>\n",
       "      <td>288</td>\n",
       "      <td>284</td>\n",
       "      <td>301</td>\n",
       "    </tr>\n",
       "  </tbody>\n",
       "</table>\n",
       "</div>"
      ],
      "text/plain": [
       "        Function 1  Function 2  Function 3\n",
       "Secant         276         276         283\n",
       "Muller         288         284         301"
      ]
     },
     "execution_count": 53,
     "metadata": {},
     "output_type": "execute_result"
    }
   ],
   "source": [
    "cpuTable=pd.DataFrame({\"Function 1\":[276,288],\"Function 2\":[276,284],\"Function 3\": [283,301]}, index=[\"Secant\",\"Muller\"])\n",
    "cpuTable"
   ]
  },
  {
   "cell_type": "markdown",
   "metadata": {},
   "source": [
    "Tabloları birleştirelim:<br>\n",
    "(F1: Function 1,\n",
    " F2: Function 2,\n",
    " F3: Function 3)"
   ]
  },
  {
   "cell_type": "code",
   "execution_count": 54,
   "metadata": {
    "scrolled": false
   },
   "outputs": [
    {
     "data": {
      "text/html": [
       "<div>\n",
       "<style scoped>\n",
       "    .dataframe tbody tr th:only-of-type {\n",
       "        vertical-align: middle;\n",
       "    }\n",
       "\n",
       "    .dataframe tbody tr th {\n",
       "        vertical-align: top;\n",
       "    }\n",
       "\n",
       "    .dataframe thead th {\n",
       "        text-align: right;\n",
       "    }\n",
       "</style>\n",
       "<table border=\"1\" class=\"dataframe\">\n",
       "  <thead>\n",
       "    <tr style=\"text-align: right;\">\n",
       "      <th></th>\n",
       "      <th>Convergence Speed</th>\n",
       "      <th>F1 Iterations</th>\n",
       "      <th>F2 Iterations</th>\n",
       "      <th>F3 Iterations</th>\n",
       "      <th>F1 CPU Time</th>\n",
       "      <th>F2 CPU Time</th>\n",
       "      <th>F3 CPU Time</th>\n",
       "    </tr>\n",
       "  </thead>\n",
       "  <tbody>\n",
       "    <tr>\n",
       "      <th>Secant</th>\n",
       "      <td>1.618</td>\n",
       "      <td>41</td>\n",
       "      <td>35</td>\n",
       "      <td>26</td>\n",
       "      <td>276</td>\n",
       "      <td>276</td>\n",
       "      <td>283</td>\n",
       "    </tr>\n",
       "    <tr>\n",
       "      <th>Muller</th>\n",
       "      <td>1.839</td>\n",
       "      <td>6</td>\n",
       "      <td>8</td>\n",
       "      <td>7</td>\n",
       "      <td>288</td>\n",
       "      <td>284</td>\n",
       "      <td>301</td>\n",
       "    </tr>\n",
       "  </tbody>\n",
       "</table>\n",
       "</div>"
      ],
      "text/plain": [
       "        Convergence Speed  F1 Iterations  F2 Iterations  F3 Iterations  \\\n",
       "Secant              1.618             41             35             26   \n",
       "Muller              1.839              6              8              7   \n",
       "\n",
       "        F1 CPU Time  F2 CPU Time  F3 CPU Time  \n",
       "Secant          276          276          283  \n",
       "Muller          288          284          301  "
      ]
     },
     "execution_count": 54,
     "metadata": {},
     "output_type": "execute_result"
    }
   ],
   "source": [
    "prefinalTable=pd.concat([convergenceTable,iterationTable], axis=1).rename(columns={\"Function 1\":\"F1 Iterations\", \n",
    "                                                                                   \"Function 2\":\"F2 Iterations\",\n",
    "                                                                                   \"Function 3\":\"F3 Iterations\"})\n",
    "finalTable=pd.concat([prefinalTable,cpuTable], axis=1).rename(columns={\"Function 1\":\"F1 CPU Time\", \n",
    "                                                                       \"Function 2\":\"F2 CPU Time\",\n",
    "                                                                       \"Function 3\":\"F3 CPU Time\"})\n",
    "finalTable"
   ]
  },
  {
   "cell_type": "markdown",
   "metadata": {},
   "source": [
    "İterasyon sayılarında büyük fark olmasına rağmen işlemci süreleri birbirine çok yakın ve Secant yöntemi nispeten daha hızlı. Müller yönteminin daha yorucu olduğu söylenebilir."
   ]
  },
  {
   "cell_type": "code",
   "execution_count": null,
   "metadata": {},
   "outputs": [],
   "source": []
  }
 ],
 "metadata": {
  "kernelspec": {
   "display_name": "Python 3",
   "language": "python",
   "name": "python3"
  },
  "language_info": {
   "codemirror_mode": {
    "name": "ipython",
    "version": 3
   },
   "file_extension": ".py",
   "mimetype": "text/x-python",
   "name": "python",
   "nbconvert_exporter": "python",
   "pygments_lexer": "ipython3",
   "version": "3.8.8"
  }
 },
 "nbformat": 4,
 "nbformat_minor": 4
}
